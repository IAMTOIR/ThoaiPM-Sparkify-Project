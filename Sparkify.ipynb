{
 "cells": [
  {
   "cell_type": "markdown",
   "metadata": {},
   "source": [
    "# Sparkify Project Workspace\n",
    "This workspace contains a tiny subset (128MB) of the full dataset available (12GB). Feel free to use this workspace to build your project, or to explore a smaller subset with Spark before deploying your cluster on the cloud. Instructions for setting up your Spark cluster is included in the last lesson of the Extracurricular Spark Course content.\n",
    "\n",
    "You can follow the steps below to guide your data analysis and model building portion of this project."
   ]
  },
  {
   "cell_type": "code",
   "execution_count": 1,
   "metadata": {},
   "outputs": [
    {
     "name": "stdout",
     "output_type": "stream",
     "text": [
      "Collecting missingno\n",
      "  Downloading https://files.pythonhosted.org/packages/17/a2/be45b3bd2fe14cf9173f2337ab87a0f877d6847cf097e641eab4811a8b02/missingno-0.5.1-py3-none-any.whl\n",
      "Requirement already satisfied: numpy in /opt/conda/lib/python3.6/site-packages (from missingno) (1.12.1)\n",
      "Requirement already satisfied: matplotlib in /opt/conda/lib/python3.6/site-packages (from missingno) (2.1.0)\n",
      "Requirement already satisfied: scipy in /opt/conda/lib/python3.6/site-packages (from missingno) (1.2.1)\n",
      "Requirement already satisfied: seaborn in /opt/conda/lib/python3.6/site-packages (from missingno) (0.8.1)\n",
      "Requirement already satisfied: six>=1.10 in /opt/conda/lib/python3.6/site-packages (from matplotlib->missingno) (1.11.0)\n",
      "Requirement already satisfied: python-dateutil>=2.0 in /opt/conda/lib/python3.6/site-packages (from matplotlib->missingno) (2.6.1)\n",
      "Requirement already satisfied: pytz in /opt/conda/lib/python3.6/site-packages (from matplotlib->missingno) (2017.3)\n",
      "Requirement already satisfied: cycler>=0.10 in /opt/conda/lib/python3.6/site-packages/cycler-0.10.0-py3.6.egg (from matplotlib->missingno) (0.10.0)\n",
      "Requirement already satisfied: pyparsing!=2.0.4,!=2.1.2,!=2.1.6,>=2.0.1 in /opt/conda/lib/python3.6/site-packages (from matplotlib->missingno) (2.2.0)\n",
      "Requirement already satisfied: pandas in /opt/conda/lib/python3.6/site-packages (from seaborn->missingno) (0.23.3)\n",
      "Installing collected packages: missingno\n",
      "Successfully installed missingno-0.5.1\n"
     ]
    }
   ],
   "source": [
    "# install missingno library to visualize missing data\n",
    "!pip install missingno"
   ]
  },
  {
   "cell_type": "code",
   "execution_count": 2,
   "metadata": {},
   "outputs": [],
   "source": [
    "# import libraries\n",
    "import numpy as np\n",
    "import matplotlib.pyplot as plt\n",
    "import seaborn as sns\n",
    "import missingno as msno\n",
    "import datetime\n",
    "import time\n",
    "\n",
    "from pyspark.sql import SparkSession, Row\n",
    "from pyspark.sql.functions import avg, col, concat, desc, explode, lit, min, max, split, udf, when\n",
    "from pyspark.sql.types import IntegerType\n",
    "from pyspark.sql.functions import sum as Fsum\n",
    "from pyspark.sql.window import Window\n",
    "from pyspark.sql import functions as F\n",
    "from pyspark.sql.functions import *\n",
    "from pyspark.ml.evaluation import MulticlassClassificationEvaluator\n",
    "\n",
    "from pyspark.mllib.evaluation import BinaryClassificationMetrics\n",
    "from pyspark.ml import Pipeline\n",
    "from pyspark.ml.classification import LogisticRegression, RandomForestClassifier, GBTClassifier, LinearSVC, NaiveBayes\n",
    "from pyspark.ml.evaluation import BinaryClassificationEvaluator\n",
    "from pyspark.ml.feature import Normalizer, StringIndexer, VectorAssembler, StandardScaler\n",
    "from pyspark.ml.tuning import CrossValidator, ParamGridBuilder, CrossValidatorModel\n",
    "\n",
    "import re"
   ]
  },
  {
   "cell_type": "code",
   "execution_count": 3,
   "metadata": {},
   "outputs": [],
   "source": [
    "# create a Spark session\n",
    "spark = SparkSession.builder\\\n",
    "    .appName(\"Sparkify Project\")\\\n",
    "    .getOrCreate()"
   ]
  },
  {
   "cell_type": "code",
   "execution_count": 4,
   "metadata": {},
   "outputs": [
    {
     "data": {
      "text/html": [
       "\n",
       "            <div>\n",
       "                <p><b>SparkSession - in-memory</b></p>\n",
       "                \n",
       "        <div>\n",
       "            <p><b>SparkContext</b></p>\n",
       "\n",
       "            <p><a href=\"http://cab292c923c1:4040\">Spark UI</a></p>\n",
       "\n",
       "            <dl>\n",
       "              <dt>Version</dt>\n",
       "                <dd><code>v2.4.3</code></dd>\n",
       "              <dt>Master</dt>\n",
       "                <dd><code>local[*]</code></dd>\n",
       "              <dt>AppName</dt>\n",
       "                <dd><code>Sparkify Project</code></dd>\n",
       "            </dl>\n",
       "        </div>\n",
       "        \n",
       "            </div>\n",
       "        "
      ],
      "text/plain": [
       "<pyspark.sql.session.SparkSession at 0x7fb3260e7cf8>"
      ]
     },
     "execution_count": 4,
     "metadata": {},
     "output_type": "execute_result"
    }
   ],
   "source": [
    "spark"
   ]
  },
  {
   "cell_type": "markdown",
   "metadata": {},
   "source": [
    "# Load and Clean Dataset\n",
    "In this workspace, the mini-dataset file is `mini_sparkify_event_data.json`. Load and clean the dataset, checking for invalid or missing data - for example, records without userids or sessionids. "
   ]
  },
  {
   "cell_type": "markdown",
   "metadata": {},
   "source": [
    "## Load dataset"
   ]
  },
  {
   "cell_type": "code",
   "execution_count": 5,
   "metadata": {},
   "outputs": [],
   "source": [
    "# Load sparkify_event dataset\n",
    "dataset_name = \"mini_sparkify_event_data.json\"\n",
    "df_sparkify = spark.read.json(dataset_name)"
   ]
  },
  {
   "cell_type": "markdown",
   "metadata": {},
   "source": [
    "##### Some initial information of the dataset"
   ]
  },
  {
   "cell_type": "code",
   "execution_count": 6,
   "metadata": {},
   "outputs": [
    {
     "name": "stdout",
     "output_type": "stream",
     "text": [
      "Size of the dataset: 286500 rows, 18 columns\n"
     ]
    }
   ],
   "source": [
    "# Size of the dataset\n",
    "print(\"Size of the dataset: {} rows, {} columns\".format(df_sparkify.count(), len(df_sparkify.columns)))"
   ]
  },
  {
   "cell_type": "code",
   "execution_count": 7,
   "metadata": {},
   "outputs": [
    {
     "name": "stdout",
     "output_type": "stream",
     "text": [
      "The Schema of the dataset:\n",
      "root\n",
      " |-- artist: string (nullable = true)\n",
      " |-- auth: string (nullable = true)\n",
      " |-- firstName: string (nullable = true)\n",
      " |-- gender: string (nullable = true)\n",
      " |-- itemInSession: long (nullable = true)\n",
      " |-- lastName: string (nullable = true)\n",
      " |-- length: double (nullable = true)\n",
      " |-- level: string (nullable = true)\n",
      " |-- location: string (nullable = true)\n",
      " |-- method: string (nullable = true)\n",
      " |-- page: string (nullable = true)\n",
      " |-- registration: long (nullable = true)\n",
      " |-- sessionId: long (nullable = true)\n",
      " |-- song: string (nullable = true)\n",
      " |-- status: long (nullable = true)\n",
      " |-- ts: long (nullable = true)\n",
      " |-- userAgent: string (nullable = true)\n",
      " |-- userId: string (nullable = true)\n",
      "\n"
     ]
    }
   ],
   "source": [
    "# The Schema of the dataset\n",
    "print(\"The Schema of the dataset:\")\n",
    "df_sparkify.printSchema()"
   ]
  },
  {
   "cell_type": "code",
   "execution_count": 8,
   "metadata": {},
   "outputs": [
    {
     "name": "stdout",
     "output_type": "stream",
     "text": [
      "Some descriptions of the dataset:\n",
      "+-------+------------------+----------+---------+------+------------------+--------+-----------------+------+-----------------+------+-------+--------------------+-----------------+--------------------+------------------+--------------------+--------------------+-----------------+\n",
      "|summary|            artist|      auth|firstName|gender|     itemInSession|lastName|           length| level|         location|method|   page|        registration|        sessionId|                song|            status|                  ts|           userAgent|           userId|\n",
      "+-------+------------------+----------+---------+------+------------------+--------+-----------------+------+-----------------+------+-------+--------------------+-----------------+--------------------+------------------+--------------------+--------------------+-----------------+\n",
      "|  count|            228108|    286500|   278154|278154|            286500|  278154|           228108|286500|           278154|286500| 286500|              278154|           286500|              228108|            286500|              286500|              278154|           286500|\n",
      "|   mean| 551.0852017937219|      null|     null|  null|114.41421291448516|    null|249.1171819778458|  null|             null|  null|   null|1.535358834084427...|1041.526554973822|            Infinity|210.05459685863875|1.540956889810483...|                null|59682.02278593872|\n",
      "| stddev|1217.7693079161374|      null|     null|  null|129.76726201140994|    null|99.23517921058361|  null|             null|  null|   null| 3.291321616327586E9|726.7762634630741|                 NaN| 31.50507848842214|1.5075439608226302E9|                null|109091.9499991047|\n",
      "|    min|               !!!| Cancelled| Adelaida|     F|                 0|   Adams|          0.78322|  free|       Albany, OR|   GET|  About|       1521380675000|                1|\u001c",
      "ÃÂg ÃÂtti Gr...|               200|       1538352117000|\"Mozilla/5.0 (Mac...|                 |\n",
      "|    max| ÃÂlafur Arnalds|Logged Out|   Zyonna|     M|              1321|  Wright|       3024.66567|  paid|Winston-Salem, NC|   PUT|Upgrade|       1543247354000|             2474|ÃÂau hafa slopp...|               404|       1543799476000|Mozilla/5.0 (comp...|               99|\n",
      "+-------+------------------+----------+---------+------+------------------+--------+-----------------+------+-----------------+------+-------+--------------------+-----------------+--------------------+------------------+--------------------+--------------------+-----------------+\n",
      "\n"
     ]
    }
   ],
   "source": [
    "# Some descriptions of the dataset\n",
    "print(\"Some descriptions of the dataset:\")\n",
    "df_sparkify.describe().show()"
   ]
  },
  {
   "cell_type": "code",
   "execution_count": 9,
   "metadata": {},
   "outputs": [
    {
     "data": {
      "text/html": [
       "<div>\n",
       "<style scoped>\n",
       "    .dataframe tbody tr th:only-of-type {\n",
       "        vertical-align: middle;\n",
       "    }\n",
       "\n",
       "    .dataframe tbody tr th {\n",
       "        vertical-align: top;\n",
       "    }\n",
       "\n",
       "    .dataframe thead th {\n",
       "        text-align: right;\n",
       "    }\n",
       "</style>\n",
       "<table border=\"1\" class=\"dataframe\">\n",
       "  <thead>\n",
       "    <tr style=\"text-align: right;\">\n",
       "      <th></th>\n",
       "      <th>artist</th>\n",
       "      <th>auth</th>\n",
       "      <th>firstName</th>\n",
       "      <th>gender</th>\n",
       "      <th>itemInSession</th>\n",
       "      <th>lastName</th>\n",
       "      <th>length</th>\n",
       "      <th>level</th>\n",
       "      <th>location</th>\n",
       "      <th>method</th>\n",
       "      <th>page</th>\n",
       "      <th>registration</th>\n",
       "      <th>sessionId</th>\n",
       "      <th>song</th>\n",
       "      <th>status</th>\n",
       "      <th>ts</th>\n",
       "      <th>userAgent</th>\n",
       "      <th>userId</th>\n",
       "    </tr>\n",
       "  </thead>\n",
       "  <tbody>\n",
       "    <tr>\n",
       "      <th>0</th>\n",
       "      <td>Martha Tilston</td>\n",
       "      <td>Logged In</td>\n",
       "      <td>Colin</td>\n",
       "      <td>M</td>\n",
       "      <td>50</td>\n",
       "      <td>Freeman</td>\n",
       "      <td>277.89016</td>\n",
       "      <td>paid</td>\n",
       "      <td>Bakersfield, CA</td>\n",
       "      <td>PUT</td>\n",
       "      <td>NextSong</td>\n",
       "      <td>1538173362000</td>\n",
       "      <td>29</td>\n",
       "      <td>Rockpools</td>\n",
       "      <td>200</td>\n",
       "      <td>1538352117000</td>\n",
       "      <td>Mozilla/5.0 (Windows NT 6.1; WOW64; rv:31.0) G...</td>\n",
       "      <td>30</td>\n",
       "    </tr>\n",
       "    <tr>\n",
       "      <th>1</th>\n",
       "      <td>Five Iron Frenzy</td>\n",
       "      <td>Logged In</td>\n",
       "      <td>Micah</td>\n",
       "      <td>M</td>\n",
       "      <td>79</td>\n",
       "      <td>Long</td>\n",
       "      <td>236.09424</td>\n",
       "      <td>free</td>\n",
       "      <td>Boston-Cambridge-Newton, MA-NH</td>\n",
       "      <td>PUT</td>\n",
       "      <td>NextSong</td>\n",
       "      <td>1538331630000</td>\n",
       "      <td>8</td>\n",
       "      <td>Canada</td>\n",
       "      <td>200</td>\n",
       "      <td>1538352180000</td>\n",
       "      <td>\"Mozilla/5.0 (Windows NT 6.1; WOW64) AppleWebK...</td>\n",
       "      <td>9</td>\n",
       "    </tr>\n",
       "    <tr>\n",
       "      <th>2</th>\n",
       "      <td>Adam Lambert</td>\n",
       "      <td>Logged In</td>\n",
       "      <td>Colin</td>\n",
       "      <td>M</td>\n",
       "      <td>51</td>\n",
       "      <td>Freeman</td>\n",
       "      <td>282.82730</td>\n",
       "      <td>paid</td>\n",
       "      <td>Bakersfield, CA</td>\n",
       "      <td>PUT</td>\n",
       "      <td>NextSong</td>\n",
       "      <td>1538173362000</td>\n",
       "      <td>29</td>\n",
       "      <td>Time For Miracles</td>\n",
       "      <td>200</td>\n",
       "      <td>1538352394000</td>\n",
       "      <td>Mozilla/5.0 (Windows NT 6.1; WOW64; rv:31.0) G...</td>\n",
       "      <td>30</td>\n",
       "    </tr>\n",
       "    <tr>\n",
       "      <th>3</th>\n",
       "      <td>Enigma</td>\n",
       "      <td>Logged In</td>\n",
       "      <td>Micah</td>\n",
       "      <td>M</td>\n",
       "      <td>80</td>\n",
       "      <td>Long</td>\n",
       "      <td>262.71302</td>\n",
       "      <td>free</td>\n",
       "      <td>Boston-Cambridge-Newton, MA-NH</td>\n",
       "      <td>PUT</td>\n",
       "      <td>NextSong</td>\n",
       "      <td>1538331630000</td>\n",
       "      <td>8</td>\n",
       "      <td>Knocking On Forbidden Doors</td>\n",
       "      <td>200</td>\n",
       "      <td>1538352416000</td>\n",
       "      <td>\"Mozilla/5.0 (Windows NT 6.1; WOW64) AppleWebK...</td>\n",
       "      <td>9</td>\n",
       "    </tr>\n",
       "    <tr>\n",
       "      <th>4</th>\n",
       "      <td>Daft Punk</td>\n",
       "      <td>Logged In</td>\n",
       "      <td>Colin</td>\n",
       "      <td>M</td>\n",
       "      <td>52</td>\n",
       "      <td>Freeman</td>\n",
       "      <td>223.60771</td>\n",
       "      <td>paid</td>\n",
       "      <td>Bakersfield, CA</td>\n",
       "      <td>PUT</td>\n",
       "      <td>NextSong</td>\n",
       "      <td>1538173362000</td>\n",
       "      <td>29</td>\n",
       "      <td>Harder Better Faster Stronger</td>\n",
       "      <td>200</td>\n",
       "      <td>1538352676000</td>\n",
       "      <td>Mozilla/5.0 (Windows NT 6.1; WOW64; rv:31.0) G...</td>\n",
       "      <td>30</td>\n",
       "    </tr>\n",
       "  </tbody>\n",
       "</table>\n",
       "</div>"
      ],
      "text/plain": [
       "             artist       auth firstName gender  itemInSession lastName  \\\n",
       "0    Martha Tilston  Logged In     Colin      M             50  Freeman   \n",
       "1  Five Iron Frenzy  Logged In     Micah      M             79     Long   \n",
       "2      Adam Lambert  Logged In     Colin      M             51  Freeman   \n",
       "3            Enigma  Logged In     Micah      M             80     Long   \n",
       "4         Daft Punk  Logged In     Colin      M             52  Freeman   \n",
       "\n",
       "      length level                        location method      page  \\\n",
       "0  277.89016  paid                 Bakersfield, CA    PUT  NextSong   \n",
       "1  236.09424  free  Boston-Cambridge-Newton, MA-NH    PUT  NextSong   \n",
       "2  282.82730  paid                 Bakersfield, CA    PUT  NextSong   \n",
       "3  262.71302  free  Boston-Cambridge-Newton, MA-NH    PUT  NextSong   \n",
       "4  223.60771  paid                 Bakersfield, CA    PUT  NextSong   \n",
       "\n",
       "    registration  sessionId                           song  status  \\\n",
       "0  1538173362000         29                      Rockpools     200   \n",
       "1  1538331630000          8                         Canada     200   \n",
       "2  1538173362000         29              Time For Miracles     200   \n",
       "3  1538331630000          8    Knocking On Forbidden Doors     200   \n",
       "4  1538173362000         29  Harder Better Faster Stronger     200   \n",
       "\n",
       "              ts                                          userAgent userId  \n",
       "0  1538352117000  Mozilla/5.0 (Windows NT 6.1; WOW64; rv:31.0) G...     30  \n",
       "1  1538352180000  \"Mozilla/5.0 (Windows NT 6.1; WOW64) AppleWebK...      9  \n",
       "2  1538352394000  Mozilla/5.0 (Windows NT 6.1; WOW64; rv:31.0) G...     30  \n",
       "3  1538352416000  \"Mozilla/5.0 (Windows NT 6.1; WOW64) AppleWebK...      9  \n",
       "4  1538352676000  Mozilla/5.0 (Windows NT 6.1; WOW64; rv:31.0) G...     30  "
      ]
     },
     "execution_count": 9,
     "metadata": {},
     "output_type": "execute_result"
    }
   ],
   "source": [
    "# Get a visualization of the dataset by switching to pandas\n",
    "import pandas as pd\n",
    "df_sparkify_temp = pd.DataFrame(df_sparkify.take(5), columns=df_sparkify.columns)\n",
    "df_sparkify_temp"
   ]
  },
  {
   "cell_type": "code",
   "execution_count": 10,
   "metadata": {},
   "outputs": [
    {
     "name": "stdout",
     "output_type": "stream",
     "text": [
      "Number of null values of each column\n",
      "artist           58392\n",
      "auth                 0\n",
      "firstName         8346\n",
      "gender            8346\n",
      "itemInSession        0\n",
      "lastName          8346\n",
      "length           58392\n",
      "level                0\n",
      "location          8346\n",
      "method               0\n",
      "page                 0\n",
      "registration      8346\n",
      "sessionId            0\n",
      "song             58392\n",
      "status               0\n",
      "ts                   0\n",
      "userAgent         8346\n",
      "userId               0\n",
      "dtype: int64\n"
     ]
    }
   ],
   "source": [
    "# Checking null values of each columns\n",
    "print(\"Number of null values of each column\")\n",
    "print(df_sparkify.toPandas().isnull().sum())"
   ]
  },
  {
   "cell_type": "code",
   "execution_count": 11,
   "metadata": {},
   "outputs": [
    {
     "data": {
      "image/png": "[encoded data removed]",
      "text/plain": [
       "<matplotlib.figure.Figure at 0x7fb32610fc18>"
      ]
     },
     "metadata": {
      "needs_background": "light"
     },
     "output_type": "display_data"
    }
   ],
   "source": [
    "# Visualize null value by missingno library\n",
    "msno.matrix(df_sparkify.toPandas());"
   ]
  },
  {
   "cell_type": "markdown",
   "metadata": {},
   "source": [
    "The `userId` and `sessionId` columns dont't contain null values. In contrast, many of the other columns include null values."
   ]
  },
  {
   "cell_type": "markdown",
   "metadata": {},
   "source": [
    "## Clean dataset"
   ]
  },
  {
   "cell_type": "markdown",
   "metadata": {},
   "source": [
    "We must look at the blank `userID` or `sessionId` rows."
   ]
  },
  {
   "cell_type": "code",
   "execution_count": 12,
   "metadata": {},
   "outputs": [
    {
     "name": "stdout",
     "output_type": "stream",
     "text": [
      "We have 8346 userID rows and 0 sessionId rows are empty\n"
     ]
    }
   ],
   "source": [
    "print(\"We have {} userID rows and {} sessionId rows are empty\".format(df_sparkify.filter(df_sparkify['userId']=='').count(), df_sparkify.filter(df_sparkify['sessionId']=='').count()))"
   ]
  },
  {
   "cell_type": "markdown",
   "metadata": {},
   "source": [
    "Numerous observations (i.e. rows) have userId fields that are empty and The sessionId variable for each observation contains a valid value."
   ]
  },
  {
   "cell_type": "markdown",
   "metadata": {},
   "source": [
    "Delete all userID rows that are empty."
   ]
  },
  {
   "cell_type": "code",
   "execution_count": 13,
   "metadata": {},
   "outputs": [],
   "source": [
    "df_sparkify = df_sparkify.filter(df_sparkify[\"userID\"] != \"\")"
   ]
  },
  {
   "cell_type": "code",
   "execution_count": 14,
   "metadata": {},
   "outputs": [
    {
     "name": "stdout",
     "output_type": "stream",
     "text": [
      "After removing empty userID rows, the dataset remain 278154 rows\n"
     ]
    }
   ],
   "source": [
    "print(\"After removing empty userID rows, the dataset remain {} rows\".format(df_sparkify.count()))"
   ]
  },
  {
   "cell_type": "code",
   "execution_count": 15,
   "metadata": {},
   "outputs": [],
   "source": [
    "# We also need to restyle of `time` column to timestamp\n",
    "timestamp = udf(lambda x: datetime.datetime.fromtimestamp(x / 1000.0).strftime(\"%Y-%m-%d %H:%M:%S\"))\n",
    "\n",
    "#Apply the udf on the ts column\n",
    "df_sparkify = df_sparkify.withColumn(\"time\", timestamp(df_sparkify.ts))"
   ]
  },
  {
   "cell_type": "code",
   "execution_count": 16,
   "metadata": {},
   "outputs": [
    {
     "data": {
      "text/html": [
       "<div>\n",
       "<style scoped>\n",
       "    .dataframe tbody tr th:only-of-type {\n",
       "        vertical-align: middle;\n",
       "    }\n",
       "\n",
       "    .dataframe tbody tr th {\n",
       "        vertical-align: top;\n",
       "    }\n",
       "\n",
       "    .dataframe thead th {\n",
       "        text-align: right;\n",
       "    }\n",
       "</style>\n",
       "<table border=\"1\" class=\"dataframe\">\n",
       "  <thead>\n",
       "    <tr style=\"text-align: right;\">\n",
       "      <th></th>\n",
       "      <th>artist</th>\n",
       "      <th>auth</th>\n",
       "      <th>firstName</th>\n",
       "      <th>gender</th>\n",
       "      <th>itemInSession</th>\n",
       "      <th>lastName</th>\n",
       "      <th>length</th>\n",
       "      <th>level</th>\n",
       "      <th>location</th>\n",
       "      <th>method</th>\n",
       "      <th>page</th>\n",
       "      <th>registration</th>\n",
       "      <th>sessionId</th>\n",
       "      <th>song</th>\n",
       "      <th>status</th>\n",
       "      <th>ts</th>\n",
       "      <th>userAgent</th>\n",
       "      <th>userId</th>\n",
       "      <th>time</th>\n",
       "    </tr>\n",
       "  </thead>\n",
       "  <tbody>\n",
       "    <tr>\n",
       "      <th>0</th>\n",
       "      <td>Martha Tilston</td>\n",
       "      <td>Logged In</td>\n",
       "      <td>Colin</td>\n",
       "      <td>M</td>\n",
       "      <td>50</td>\n",
       "      <td>Freeman</td>\n",
       "      <td>277.89016</td>\n",
       "      <td>paid</td>\n",
       "      <td>Bakersfield, CA</td>\n",
       "      <td>PUT</td>\n",
       "      <td>NextSong</td>\n",
       "      <td>1538173362000</td>\n",
       "      <td>29</td>\n",
       "      <td>Rockpools</td>\n",
       "      <td>200</td>\n",
       "      <td>1538352117000</td>\n",
       "      <td>Mozilla/5.0 (Windows NT 6.1; WOW64; rv:31.0) G...</td>\n",
       "      <td>30</td>\n",
       "      <td>2018-10-01 00:01:57</td>\n",
       "    </tr>\n",
       "    <tr>\n",
       "      <th>1</th>\n",
       "      <td>Five Iron Frenzy</td>\n",
       "      <td>Logged In</td>\n",
       "      <td>Micah</td>\n",
       "      <td>M</td>\n",
       "      <td>79</td>\n",
       "      <td>Long</td>\n",
       "      <td>236.09424</td>\n",
       "      <td>free</td>\n",
       "      <td>Boston-Cambridge-Newton, MA-NH</td>\n",
       "      <td>PUT</td>\n",
       "      <td>NextSong</td>\n",
       "      <td>1538331630000</td>\n",
       "      <td>8</td>\n",
       "      <td>Canada</td>\n",
       "      <td>200</td>\n",
       "      <td>1538352180000</td>\n",
       "      <td>\"Mozilla/5.0 (Windows NT 6.1; WOW64) AppleWebK...</td>\n",
       "      <td>9</td>\n",
       "      <td>2018-10-01 00:03:00</td>\n",
       "    </tr>\n",
       "    <tr>\n",
       "      <th>2</th>\n",
       "      <td>Adam Lambert</td>\n",
       "      <td>Logged In</td>\n",
       "      <td>Colin</td>\n",
       "      <td>M</td>\n",
       "      <td>51</td>\n",
       "      <td>Freeman</td>\n",
       "      <td>282.82730</td>\n",
       "      <td>paid</td>\n",
       "      <td>Bakersfield, CA</td>\n",
       "      <td>PUT</td>\n",
       "      <td>NextSong</td>\n",
       "      <td>1538173362000</td>\n",
       "      <td>29</td>\n",
       "      <td>Time For Miracles</td>\n",
       "      <td>200</td>\n",
       "      <td>1538352394000</td>\n",
       "      <td>Mozilla/5.0 (Windows NT 6.1; WOW64; rv:31.0) G...</td>\n",
       "      <td>30</td>\n",
       "      <td>2018-10-01 00:06:34</td>\n",
       "    </tr>\n",
       "    <tr>\n",
       "      <th>3</th>\n",
       "      <td>Enigma</td>\n",
       "      <td>Logged In</td>\n",
       "      <td>Micah</td>\n",
       "      <td>M</td>\n",
       "      <td>80</td>\n",
       "      <td>Long</td>\n",
       "      <td>262.71302</td>\n",
       "      <td>free</td>\n",
       "      <td>Boston-Cambridge-Newton, MA-NH</td>\n",
       "      <td>PUT</td>\n",
       "      <td>NextSong</td>\n",
       "      <td>1538331630000</td>\n",
       "      <td>8</td>\n",
       "      <td>Knocking On Forbidden Doors</td>\n",
       "      <td>200</td>\n",
       "      <td>1538352416000</td>\n",
       "      <td>\"Mozilla/5.0 (Windows NT 6.1; WOW64) AppleWebK...</td>\n",
       "      <td>9</td>\n",
       "      <td>2018-10-01 00:06:56</td>\n",
       "    </tr>\n",
       "    <tr>\n",
       "      <th>4</th>\n",
       "      <td>Daft Punk</td>\n",
       "      <td>Logged In</td>\n",
       "      <td>Colin</td>\n",
       "      <td>M</td>\n",
       "      <td>52</td>\n",
       "      <td>Freeman</td>\n",
       "      <td>223.60771</td>\n",
       "      <td>paid</td>\n",
       "      <td>Bakersfield, CA</td>\n",
       "      <td>PUT</td>\n",
       "      <td>NextSong</td>\n",
       "      <td>1538173362000</td>\n",
       "      <td>29</td>\n",
       "      <td>Harder Better Faster Stronger</td>\n",
       "      <td>200</td>\n",
       "      <td>1538352676000</td>\n",
       "      <td>Mozilla/5.0 (Windows NT 6.1; WOW64; rv:31.0) G...</td>\n",
       "      <td>30</td>\n",
       "      <td>2018-10-01 00:11:16</td>\n",
       "    </tr>\n",
       "  </tbody>\n",
       "</table>\n",
       "</div>"
      ],
      "text/plain": [
       "             artist       auth firstName gender  itemInSession lastName  \\\n",
       "0    Martha Tilston  Logged In     Colin      M             50  Freeman   \n",
       "1  Five Iron Frenzy  Logged In     Micah      M             79     Long   \n",
       "2      Adam Lambert  Logged In     Colin      M             51  Freeman   \n",
       "3            Enigma  Logged In     Micah      M             80     Long   \n",
       "4         Daft Punk  Logged In     Colin      M             52  Freeman   \n",
       "\n",
       "      length level                        location method      page  \\\n",
       "0  277.89016  paid                 Bakersfield, CA    PUT  NextSong   \n",
       "1  236.09424  free  Boston-Cambridge-Newton, MA-NH    PUT  NextSong   \n",
       "2  282.82730  paid                 Bakersfield, CA    PUT  NextSong   \n",
       "3  262.71302  free  Boston-Cambridge-Newton, MA-NH    PUT  NextSong   \n",
       "4  223.60771  paid                 Bakersfield, CA    PUT  NextSong   \n",
       "\n",
       "    registration  sessionId                           song  status  \\\n",
       "0  1538173362000         29                      Rockpools     200   \n",
       "1  1538331630000          8                         Canada     200   \n",
       "2  1538173362000         29              Time For Miracles     200   \n",
       "3  1538331630000          8    Knocking On Forbidden Doors     200   \n",
       "4  1538173362000         29  Harder Better Faster Stronger     200   \n",
       "\n",
       "              ts                                          userAgent userId  \\\n",
       "0  1538352117000  Mozilla/5.0 (Windows NT 6.1; WOW64; rv:31.0) G...     30   \n",
       "1  1538352180000  \"Mozilla/5.0 (Windows NT 6.1; WOW64) AppleWebK...      9   \n",
       "2  1538352394000  Mozilla/5.0 (Windows NT 6.1; WOW64; rv:31.0) G...     30   \n",
       "3  1538352416000  \"Mozilla/5.0 (Windows NT 6.1; WOW64) AppleWebK...      9   \n",
       "4  1538352676000  Mozilla/5.0 (Windows NT 6.1; WOW64; rv:31.0) G...     30   \n",
       "\n",
       "                  time  \n",
       "0  2018-10-01 00:01:57  \n",
       "1  2018-10-01 00:03:00  \n",
       "2  2018-10-01 00:06:34  \n",
       "3  2018-10-01 00:06:56  \n",
       "4  2018-10-01 00:11:16  "
      ]
     },
     "execution_count": 16,
     "metadata": {},
     "output_type": "execute_result"
    }
   ],
   "source": [
    "df_sparkify_temp = pd.DataFrame(df_sparkify.take(5), columns=df_sparkify.columns)\n",
    "df_sparkify_temp"
   ]
  },
  {
   "cell_type": "markdown",
   "metadata": {},
   "source": [
    "# Exploratory Data Analysis\n",
    "When you're working with the full dataset, perform EDA by loading a small subset of the data and doing basic manipulations within Spark. In this workspace, you are already provided a small subset of data you can explore.\n",
    "\n",
    "### Define Churn\n",
    "\n",
    "Once you've done some preliminary analysis, create a column `Churn` to use as the label for your model. I suggest using the `Cancellation Confirmation` events to define your churn, which happen for both paid and free users. As a bonus task, you can also look into the `Downgrade` events.\n",
    "\n",
    "### Explore Data\n",
    "Once you've defined churn, perform some exploratory data analysis to observe the behavior for users who stayed vs users who churned. You can start by exploring aggregates on these two groups of users, observing how much of a specific action they experienced per a certain time unit or number of songs played."
   ]
  },
  {
   "cell_type": "markdown",
   "metadata": {},
   "source": [
    "### Churn is outlined as users who have canceled Sparkify (users who have \"Cancelled Confirmation\" page events)"
   ]
  },
  {
   "cell_type": "code",
   "execution_count": 17,
   "metadata": {},
   "outputs": [
    {
     "data": {
      "text/plain": [
       "[Row(page='Cancel'),\n",
       " Row(page='Submit Downgrade'),\n",
       " Row(page='Thumbs Down'),\n",
       " Row(page='Home'),\n",
       " Row(page='Downgrade'),\n",
       " Row(page='Roll Advert'),\n",
       " Row(page='Logout'),\n",
       " Row(page='Save Settings'),\n",
       " Row(page='Cancellation Confirmation'),\n",
       " Row(page='About'),\n",
       " Row(page='Settings'),\n",
       " Row(page='Add to Playlist'),\n",
       " Row(page='Add Friend'),\n",
       " Row(page='NextSong'),\n",
       " Row(page='Thumbs Up'),\n",
       " Row(page='Help'),\n",
       " Row(page='Upgrade'),\n",
       " Row(page='Error'),\n",
       " Row(page='Submit Upgrade')]"
      ]
     },
     "execution_count": 17,
     "metadata": {},
     "output_type": "execute_result"
    }
   ],
   "source": [
    "# All values of page column\n",
    "df_sparkify.select(\"page\").dropDuplicates().collect()"
   ]
  },
  {
   "cell_type": "code",
   "execution_count": 18,
   "metadata": {},
   "outputs": [
    {
     "name": "stdout",
     "output_type": "stream",
     "text": [
      "Total number of users who left (churned users): 52\n"
     ]
    }
   ],
   "source": [
    "print(\"Total number of users who left (churned users): {}\".format(df_sparkify.select([\"userId\", \"page\"]).where(df_sparkify.page == \"Cancellation Confirmation\").count()))"
   ]
  },
  {
   "cell_type": "markdown",
   "metadata": {},
   "source": [
    "By assigning a 1 if a user has been churned and a 0 if they have not, I construct the flag for churned users. The target column for a later modeling stage will be created using this flag and given the name \"churn.\""
   ]
  },
  {
   "cell_type": "code",
   "execution_count": 19,
   "metadata": {},
   "outputs": [],
   "source": [
    "active_churned = udf(lambda x: 1 if x == \"Cancellation Confirmation\" else 0, IntegerType())"
   ]
  },
  {
   "cell_type": "code",
   "execution_count": 20,
   "metadata": {},
   "outputs": [
    {
     "data": {
      "text/html": [
       "<div>\n",
       "<style scoped>\n",
       "    .dataframe tbody tr th:only-of-type {\n",
       "        vertical-align: middle;\n",
       "    }\n",
       "\n",
       "    .dataframe tbody tr th {\n",
       "        vertical-align: top;\n",
       "    }\n",
       "\n",
       "    .dataframe thead th {\n",
       "        text-align: right;\n",
       "    }\n",
       "</style>\n",
       "<table border=\"1\" class=\"dataframe\">\n",
       "  <thead>\n",
       "    <tr style=\"text-align: right;\">\n",
       "      <th></th>\n",
       "      <th>artist</th>\n",
       "      <th>auth</th>\n",
       "      <th>firstName</th>\n",
       "      <th>gender</th>\n",
       "      <th>itemInSession</th>\n",
       "      <th>lastName</th>\n",
       "      <th>length</th>\n",
       "      <th>level</th>\n",
       "      <th>location</th>\n",
       "      <th>method</th>\n",
       "      <th>page</th>\n",
       "      <th>registration</th>\n",
       "      <th>sessionId</th>\n",
       "      <th>song</th>\n",
       "      <th>status</th>\n",
       "      <th>ts</th>\n",
       "      <th>userAgent</th>\n",
       "      <th>userId</th>\n",
       "      <th>time</th>\n",
       "      <th>churned</th>\n",
       "    </tr>\n",
       "  </thead>\n",
       "  <tbody>\n",
       "    <tr>\n",
       "      <th>0</th>\n",
       "      <td>Martha Tilston</td>\n",
       "      <td>Logged In</td>\n",
       "      <td>Colin</td>\n",
       "      <td>M</td>\n",
       "      <td>50</td>\n",
       "      <td>Freeman</td>\n",
       "      <td>277.89016</td>\n",
       "      <td>paid</td>\n",
       "      <td>Bakersfield, CA</td>\n",
       "      <td>PUT</td>\n",
       "      <td>NextSong</td>\n",
       "      <td>1538173362000</td>\n",
       "      <td>29</td>\n",
       "      <td>Rockpools</td>\n",
       "      <td>200</td>\n",
       "      <td>1538352117000</td>\n",
       "      <td>Mozilla/5.0 (Windows NT 6.1; WOW64; rv:31.0) G...</td>\n",
       "      <td>30</td>\n",
       "      <td>2018-10-01 00:01:57</td>\n",
       "      <td>0</td>\n",
       "    </tr>\n",
       "    <tr>\n",
       "      <th>1</th>\n",
       "      <td>Five Iron Frenzy</td>\n",
       "      <td>Logged In</td>\n",
       "      <td>Micah</td>\n",
       "      <td>M</td>\n",
       "      <td>79</td>\n",
       "      <td>Long</td>\n",
       "      <td>236.09424</td>\n",
       "      <td>free</td>\n",
       "      <td>Boston-Cambridge-Newton, MA-NH</td>\n",
       "      <td>PUT</td>\n",
       "      <td>NextSong</td>\n",
       "      <td>1538331630000</td>\n",
       "      <td>8</td>\n",
       "      <td>Canada</td>\n",
       "      <td>200</td>\n",
       "      <td>1538352180000</td>\n",
       "      <td>\"Mozilla/5.0 (Windows NT 6.1; WOW64) AppleWebK...</td>\n",
       "      <td>9</td>\n",
       "      <td>2018-10-01 00:03:00</td>\n",
       "      <td>0</td>\n",
       "    </tr>\n",
       "    <tr>\n",
       "      <th>2</th>\n",
       "      <td>Adam Lambert</td>\n",
       "      <td>Logged In</td>\n",
       "      <td>Colin</td>\n",
       "      <td>M</td>\n",
       "      <td>51</td>\n",
       "      <td>Freeman</td>\n",
       "      <td>282.82730</td>\n",
       "      <td>paid</td>\n",
       "      <td>Bakersfield, CA</td>\n",
       "      <td>PUT</td>\n",
       "      <td>NextSong</td>\n",
       "      <td>1538173362000</td>\n",
       "      <td>29</td>\n",
       "      <td>Time For Miracles</td>\n",
       "      <td>200</td>\n",
       "      <td>1538352394000</td>\n",
       "      <td>Mozilla/5.0 (Windows NT 6.1; WOW64; rv:31.0) G...</td>\n",
       "      <td>30</td>\n",
       "      <td>2018-10-01 00:06:34</td>\n",
       "      <td>0</td>\n",
       "    </tr>\n",
       "    <tr>\n",
       "      <th>3</th>\n",
       "      <td>Enigma</td>\n",
       "      <td>Logged In</td>\n",
       "      <td>Micah</td>\n",
       "      <td>M</td>\n",
       "      <td>80</td>\n",
       "      <td>Long</td>\n",
       "      <td>262.71302</td>\n",
       "      <td>free</td>\n",
       "      <td>Boston-Cambridge-Newton, MA-NH</td>\n",
       "      <td>PUT</td>\n",
       "      <td>NextSong</td>\n",
       "      <td>1538331630000</td>\n",
       "      <td>8</td>\n",
       "      <td>Knocking On Forbidden Doors</td>\n",
       "      <td>200</td>\n",
       "      <td>1538352416000</td>\n",
       "      <td>\"Mozilla/5.0 (Windows NT 6.1; WOW64) AppleWebK...</td>\n",
       "      <td>9</td>\n",
       "      <td>2018-10-01 00:06:56</td>\n",
       "      <td>0</td>\n",
       "    </tr>\n",
       "    <tr>\n",
       "      <th>4</th>\n",
       "      <td>Daft Punk</td>\n",
       "      <td>Logged In</td>\n",
       "      <td>Colin</td>\n",
       "      <td>M</td>\n",
       "      <td>52</td>\n",
       "      <td>Freeman</td>\n",
       "      <td>223.60771</td>\n",
       "      <td>paid</td>\n",
       "      <td>Bakersfield, CA</td>\n",
       "      <td>PUT</td>\n",
       "      <td>NextSong</td>\n",
       "      <td>1538173362000</td>\n",
       "      <td>29</td>\n",
       "      <td>Harder Better Faster Stronger</td>\n",
       "      <td>200</td>\n",
       "      <td>1538352676000</td>\n",
       "      <td>Mozilla/5.0 (Windows NT 6.1; WOW64; rv:31.0) G...</td>\n",
       "      <td>30</td>\n",
       "      <td>2018-10-01 00:11:16</td>\n",
       "      <td>0</td>\n",
       "    </tr>\n",
       "  </tbody>\n",
       "</table>\n",
       "</div>"
      ],
      "text/plain": [
       "             artist       auth firstName gender  itemInSession lastName  \\\n",
       "0    Martha Tilston  Logged In     Colin      M             50  Freeman   \n",
       "1  Five Iron Frenzy  Logged In     Micah      M             79     Long   \n",
       "2      Adam Lambert  Logged In     Colin      M             51  Freeman   \n",
       "3            Enigma  Logged In     Micah      M             80     Long   \n",
       "4         Daft Punk  Logged In     Colin      M             52  Freeman   \n",
       "\n",
       "      length level                        location method      page  \\\n",
       "0  277.89016  paid                 Bakersfield, CA    PUT  NextSong   \n",
       "1  236.09424  free  Boston-Cambridge-Newton, MA-NH    PUT  NextSong   \n",
       "2  282.82730  paid                 Bakersfield, CA    PUT  NextSong   \n",
       "3  262.71302  free  Boston-Cambridge-Newton, MA-NH    PUT  NextSong   \n",
       "4  223.60771  paid                 Bakersfield, CA    PUT  NextSong   \n",
       "\n",
       "    registration  sessionId                           song  status  \\\n",
       "0  1538173362000         29                      Rockpools     200   \n",
       "1  1538331630000          8                         Canada     200   \n",
       "2  1538173362000         29              Time For Miracles     200   \n",
       "3  1538331630000          8    Knocking On Forbidden Doors     200   \n",
       "4  1538173362000         29  Harder Better Faster Stronger     200   \n",
       "\n",
       "              ts                                          userAgent userId  \\\n",
       "0  1538352117000  Mozilla/5.0 (Windows NT 6.1; WOW64; rv:31.0) G...     30   \n",
       "1  1538352180000  \"Mozilla/5.0 (Windows NT 6.1; WOW64) AppleWebK...      9   \n",
       "2  1538352394000  Mozilla/5.0 (Windows NT 6.1; WOW64; rv:31.0) G...     30   \n",
       "3  1538352416000  \"Mozilla/5.0 (Windows NT 6.1; WOW64) AppleWebK...      9   \n",
       "4  1538352676000  Mozilla/5.0 (Windows NT 6.1; WOW64; rv:31.0) G...     30   \n",
       "\n",
       "                  time  churned  \n",
       "0  2018-10-01 00:01:57        0  \n",
       "1  2018-10-01 00:03:00        0  \n",
       "2  2018-10-01 00:06:34        0  \n",
       "3  2018-10-01 00:06:56        0  \n",
       "4  2018-10-01 00:11:16        0  "
      ]
     },
     "execution_count": 20,
     "metadata": {},
     "output_type": "execute_result"
    }
   ],
   "source": [
    "# Create churned column\n",
    "df_sparkify = df_sparkify.withColumn(\"churned\", active_churned(\"page\"))\n",
    "df_sparkify_temp = pd.DataFrame(df_sparkify.take(5), columns=df_sparkify.columns)\n",
    "df_sparkify_temp"
   ]
  },
  {
   "cell_type": "code",
   "execution_count": 21,
   "metadata": {},
   "outputs": [
    {
     "name": "stdout",
     "output_type": "stream",
     "text": [
      "['100001', '100003', '100005', '100006', '100007', '100009', '100011', '100012', '100013', '100014', '100015', '100017', '100019', '100021', '100022', '100023', '100024', '100025', '101', '103', '105', '106', '12', '121', '122', '125', '129', '143', '17', '18', '200001', '200011', '200015', '200016', '200017', '200018', '200020', '200021', '200024', '28', '29', '3', '300001', '300007', '32', '51', '53', '54', '58', '70', '73', '87']\n"
     ]
    }
   ],
   "source": [
    "# All users who churned (active_churned = 1)\n",
    "# function for converting Row object to string\n",
    "udf_c = lambda x, y: x.asDict()[y]\n",
    "churned = df_sparkify.filter(df_sparkify.churned == 1).groupby(df_sparkify.userId).count().orderBy(df_sparkify.userId).collect()\n",
    "churned_list = list(map(udf_c, churned, ['userId' for i in range(len(churned))]))\n",
    "print(churned_list)"
   ]
  },
  {
   "cell_type": "code",
   "execution_count": 22,
   "metadata": {},
   "outputs": [
    {
     "name": "stdout",
     "output_type": "stream",
     "text": [
      "['10', '100', '100002', '100004', '100008', '100010', '100016', '100018', '102', '104', '107', '108', '109', '11', '110', '111', '112', '113', '114', '115', '116', '117', '118', '119', '120', '123', '124', '126', '127', '128', '13', '131', '132', '133', '134', '135', '136', '137', '138', '139', '14', '140', '141', '142', '144', '145', '146', '147', '148', '149', '15', '150', '151', '152', '153', '154', '155', '156', '16', '19', '2', '20', '200002', '200003', '200004', '200005', '200006', '200007', '200008', '200009', '200010', '200012', '200014', '200019', '200022', '200023', '200025', '21', '22', '23', '24', '25', '26', '27', '30', '300002', '300003', '300004', '300005', '300006', '300008', '300009', '300010', '300011', '300012', '300013', '300014', '300015', '300016', '300017', '300018', '300019', '300020', '300021', '300022', '300023', '300024', '300025', '33', '34', '35', '36', '37', '38', '39', '4', '40', '41', '42', '43', '44', '45', '46', '47', '49', '5', '50', '52', '55', '56', '57', '59', '6', '60', '61', '62', '63', '64', '65', '66', '67', '68', '69', '7', '71', '72', '74', '75', '76', '77', '78', '79', '8', '80', '81', '82', '83', '84', '85', '86', '88', '89', '9', '90', '91', '92', '93', '94', '95', '96', '97', '98', '99']\n"
     ]
    }
   ],
   "source": [
    "# All users who churned (active_churned = 0)\n",
    "# function for converting Row object to string\n",
    "users = df_sparkify.select([\"userId\"]).dropDuplicates().sort(\"userId\").collect()\n",
    "usersList = list(map(udf_c, users, ['userId' for i in range(len(users))]))\n",
    "not_churned = [c for c in usersList if not c in churned_list]\n",
    "print(not_churned)"
   ]
  },
  {
   "cell_type": "markdown",
   "metadata": {},
   "source": [
    "I will arrange the records for each user in descending order based on the timestamp and sum the values in the churn column"
   ]
  },
  {
   "cell_type": "code",
   "execution_count": 23,
   "metadata": {},
   "outputs": [],
   "source": [
    "windowval = Window.partitionBy(\"userId\").orderBy(desc(\"ts\")).rangeBetween(Window.unboundedPreceding, 0)\n",
    "df_sparkify = df_sparkify.withColumn(\"churned\", Fsum(\"churned\").over(windowval))\n",
    "df_churn = df_sparkify.select(['userId', 'churned']).dropDuplicates().groupBy('churned').count()"
   ]
  },
  {
   "cell_type": "code",
   "execution_count": 24,
   "metadata": {},
   "outputs": [
    {
     "data": {
      "image/png": "[encoded data removed]",
      "text/plain": [
       "<matplotlib.figure.Figure at 0x7fb312ca3128>"
      ]
     },
     "metadata": {
      "needs_background": "light"
     },
     "output_type": "display_data"
    }
   ],
   "source": [
    "import seaborn as sb\n",
    "df_churn = df_churn.toPandas()\n",
    "plt.figure(figsize = [16, 9]);\n",
    "plot = sns.barplot(data=df_churn, x=\"churned\", y=\"count\",  palette=['r', 'b'])\n",
    "plt.title(\"Numbers of churned users\");\n",
    "\n",
    "# Iterate over the bars in the plot\n",
    "for p in plot.patches:\n",
    "    # Get the height of the bar\n",
    "    height = p.get_height()\n",
    "    # Add an annotation to the plot at the center of the bar\n",
    "    plot.axes.text(p.get_x() + p.get_width() / 2, height, height, ha='center', va='bottom', fontsize=14, color='black')"
   ]
  },
  {
   "cell_type": "code",
   "execution_count": 25,
   "metadata": {},
   "outputs": [
    {
     "data": {
      "text/html": [
       "<div>\n",
       "<style scoped>\n",
       "    .dataframe tbody tr th:only-of-type {\n",
       "        vertical-align: middle;\n",
       "    }\n",
       "\n",
       "    .dataframe tbody tr th {\n",
       "        vertical-align: top;\n",
       "    }\n",
       "\n",
       "    .dataframe thead th {\n",
       "        text-align: right;\n",
       "    }\n",
       "</style>\n",
       "<table border=\"1\" class=\"dataframe\">\n",
       "  <thead>\n",
       "    <tr style=\"text-align: right;\">\n",
       "      <th></th>\n",
       "      <th>churned</th>\n",
       "      <th>count</th>\n",
       "    </tr>\n",
       "  </thead>\n",
       "  <tbody>\n",
       "    <tr>\n",
       "      <th>0</th>\n",
       "      <td>0</td>\n",
       "      <td>173</td>\n",
       "    </tr>\n",
       "    <tr>\n",
       "      <th>1</th>\n",
       "      <td>1</td>\n",
       "      <td>52</td>\n",
       "    </tr>\n",
       "  </tbody>\n",
       "</table>\n",
       "</div>"
      ],
      "text/plain": [
       "   churned  count\n",
       "0        0    173\n",
       "1        1     52"
      ]
     },
     "execution_count": 25,
     "metadata": {},
     "output_type": "execute_result"
    }
   ],
   "source": [
    "df_churn"
   ]
  },
  {
   "cell_type": "markdown",
   "metadata": {},
   "source": [
    "The chart shows that there are only 52 churned users and 173 stayed users. This imbalance in the data is important to consider when building a model, as it could affect the model's performance"
   ]
  },
  {
   "cell_type": "markdown",
   "metadata": {},
   "source": [
    "### Preliminary Analysis"
   ]
  },
  {
   "cell_type": "markdown",
   "metadata": {},
   "source": [
    "#### Time"
   ]
  },
  {
   "cell_type": "code",
   "execution_count": 26,
   "metadata": {},
   "outputs": [
    {
     "data": {
      "image/png": "[encoded data removed]",
      "text/plain": [
       "<matplotlib.figure.Figure at 0x7fb324e1c048>"
      ]
     },
     "metadata": {
      "needs_background": "light"
     },
     "output_type": "display_data"
    }
   ],
   "source": [
    "# Time - Churned Users\n",
    "churned_time = df_sparkify.filter(df_sparkify.churned==1).toPandas()\n",
    "churned_time = churned_time[np.isfinite(churned_time['length'])]\n",
    "plt.figure(figsize = [20, 9]);\n",
    "\n",
    "# Create the bins using the cut function\n",
    "bins = pd.cut(churned_time['length'], bins=range(0, 701, 50))\n",
    "\n",
    "# Add the bins column to the dataframe\n",
    "churned_time['bins'] = bins\n",
    "\n",
    "# Create the countplot\n",
    "plot = sns.countplot(data=churned_time, x='bins')\n",
    "\n",
    "# Set the x-axis and y-axis labels\n",
    "plot.set_xlabel('Time Spent')\n",
    "plot.set_ylabel('Frequency')\n",
    "\n",
    "# Add a title to the plot\n",
    "plot.set_title('Time - Churned Users');"
   ]
  },
  {
   "cell_type": "code",
   "execution_count": 27,
   "metadata": {},
   "outputs": [
    {
     "data": {
      "image/png": "[encoded data removed]",
      "text/plain": [
       "<matplotlib.figure.Figure at 0x7fb31d9d8048>"
      ]
     },
     "metadata": {
      "needs_background": "light"
     },
     "output_type": "display_data"
    }
   ],
   "source": [
    "# Time - Not Churned Users\n",
    "not_churned_time = df_sparkify.filter(df_sparkify.churned==1).toPandas()\n",
    "not_churned_time = not_churned_time[np.isfinite(not_churned_time['length'])]\n",
    "plt.figure(figsize = [30, 9]);\n",
    "\n",
    "# Create the bins using the cut function\n",
    "bins = pd.cut(not_churned_time['length'], bins=range(0, 701, 50))\n",
    "\n",
    "# Add the bins column to the dataframe\n",
    "not_churned_time['bins'] = bins\n",
    "\n",
    "# Create the countplot\n",
    "plot = sns.countplot(data=not_churned_time, x='bins')\n",
    "\n",
    "# Set the x-axis and y-axis labels\n",
    "plot.set_xlabel('Time Spent')\n",
    "plot.set_ylabel('Frequency')\n",
    "\n",
    "# Add a title to the plot\n",
    "plot.set_title('Time - Not Churned Users');"
   ]
  },
  {
   "cell_type": "markdown",
   "metadata": {},
   "source": [
    "There is no significant difference in the amount of time spent between the two groups, meaning that this factor is not likely to be helpful in predicting churn"
   ]
  },
  {
   "cell_type": "markdown",
   "metadata": {},
   "source": [
    "#### Level"
   ]
  },
  {
   "cell_type": "code",
   "execution_count": 28,
   "metadata": {},
   "outputs": [
    {
     "data": {
      "text/html": [
       "<div>\n",
       "<style scoped>\n",
       "    .dataframe tbody tr th:only-of-type {\n",
       "        vertical-align: middle;\n",
       "    }\n",
       "\n",
       "    .dataframe tbody tr th {\n",
       "        vertical-align: top;\n",
       "    }\n",
       "\n",
       "    .dataframe thead th {\n",
       "        text-align: right;\n",
       "    }\n",
       "</style>\n",
       "<table border=\"1\" class=\"dataframe\">\n",
       "  <thead>\n",
       "    <tr style=\"text-align: right;\">\n",
       "      <th></th>\n",
       "      <th>level</th>\n",
       "      <th>churned</th>\n",
       "      <th>count</th>\n",
       "    </tr>\n",
       "  </thead>\n",
       "  <tbody>\n",
       "    <tr>\n",
       "      <th>0</th>\n",
       "      <td>free</td>\n",
       "      <td>0</td>\n",
       "      <td>149</td>\n",
       "    </tr>\n",
       "    <tr>\n",
       "      <th>1</th>\n",
       "      <td>paid</td>\n",
       "      <td>0</td>\n",
       "      <td>129</td>\n",
       "    </tr>\n",
       "    <tr>\n",
       "      <th>2</th>\n",
       "      <td>free</td>\n",
       "      <td>1</td>\n",
       "      <td>46</td>\n",
       "    </tr>\n",
       "    <tr>\n",
       "      <th>3</th>\n",
       "      <td>paid</td>\n",
       "      <td>1</td>\n",
       "      <td>36</td>\n",
       "    </tr>\n",
       "  </tbody>\n",
       "</table>\n",
       "</div>"
      ],
      "text/plain": [
       "  level  churned  count\n",
       "0  free        0    149\n",
       "1  paid        0    129\n",
       "2  free        1     46\n",
       "3  paid        1     36"
      ]
     },
     "execution_count": 28,
     "metadata": {},
     "output_type": "execute_result"
    }
   ],
   "source": [
    "churned_level = df_sparkify.select(['userId', 'churned', 'level']).dropDuplicates().groupBy('level','churned').count()\n",
    "churned_level = churned_level.toPandas()\n",
    "churned_level.head()"
   ]
  },
  {
   "cell_type": "code",
   "execution_count": 29,
   "metadata": {},
   "outputs": [
    {
     "name": "stderr",
     "output_type": "stream",
     "text": [
      "/opt/conda/lib/python3.6/site-packages/seaborn/axisgrid.py:703: UserWarning: Using the barplot function without specifying `order` is likely to produce an incorrect plot.\n",
      "  warnings.warn(warning)\n"
     ]
    },
    {
     "data": {
      "text/plain": [
       "<matplotlib.figure.Figure at 0x7fb3167c5dd8>"
      ]
     },
     "metadata": {},
     "output_type": "display_data"
    },
    {
     "data": {
      "image/png": "[encoded data removed]",
      "text/plain": [
       "<matplotlib.figure.Figure at 0x7fb31df03b38>"
      ]
     },
     "metadata": {
      "needs_background": "light"
     },
     "output_type": "display_data"
    }
   ],
   "source": [
    "# Create a faceted plot with the 'churned' column on the rows and the 'level' column on the hue\n",
    "plt.figure(figsize=[16, 9])\n",
    "g = sns.FacetGrid(data=churned_level, row='churned', hue='level', aspect=1.5);\n",
    "\n",
    "# Use the barplot function to plot the count values\n",
    "g.map(sns.barplot, 'level', 'count');\n",
    "\n",
    "\n",
    "# Add a legend to the plot\n",
    "g.add_legend();\n",
    "\n",
    "# Set the titles for the rows and the plot\n",
    "g.set_titles(\"Number of Users in each level with churned = {row_name}\");\n",
    "g.set(ylabel='Count');"
   ]
  },
  {
   "cell_type": "markdown",
   "metadata": {},
   "source": [
    "According to the chart, there is a slight difference between free users and paid users in terms of churn. More free users have churned compared to paid users. However, this information alone is not sufficient for predicting churn. I will continue exploring other features to find more insights"
   ]
  },
  {
   "cell_type": "markdown",
   "metadata": {},
   "source": [
    "#### Gender"
   ]
  },
  {
   "cell_type": "code",
   "execution_count": 30,
   "metadata": {},
   "outputs": [
    {
     "name": "stdout",
     "output_type": "stream",
     "text": [
      "+------+-------+-----+\n",
      "|gender|churned|count|\n",
      "+------+-------+-----+\n",
      "|     F|      0|   84|\n",
      "|     F|      1|   20|\n",
      "|     M|      0|   89|\n",
      "|     M|      1|   32|\n",
      "+------+-------+-----+\n",
      "\n"
     ]
    }
   ],
   "source": [
    "churned_gender = df_sparkify.select(['userId', 'churned', 'gender']).dropDuplicates().groupBy('gender','churned').count()\n",
    "churned_gender.show()\n",
    "churned_gender = churned_gender.toPandas()"
   ]
  },
  {
   "cell_type": "code",
   "execution_count": 31,
   "metadata": {},
   "outputs": [
    {
     "data": {
      "image/png": "[encoded data removed]",
      "text/plain": [
       "<matplotlib.figure.Figure at 0x7fb30d26f7b8>"
      ]
     },
     "metadata": {
      "needs_background": "light"
     },
     "output_type": "display_data"
    }
   ],
   "source": [
    "# Convert the 'count' column to a numeric type\n",
    "plt.figure(figsize=[16, 9])\n",
    "churned_gender['count'] = pd.to_numeric(churned_gender['count'])\n",
    "\n",
    "# Create a bar chart with the 'level' column on the x-axis and the 'count' column on the y-axis\n",
    "plot = sns.barplot(data=churned_gender, x='churned', y='count', hue='gender',  palette=['r', 'b'])\n",
    ", \n",
    "# Add a legend to the plot\n",
    "plot.legend(loc='upper right', title='Gender')\n",
    "\n",
    "# Set the x-axis label\n",
    "plot.set(xlabel='Active Churn', ylabel='Count')\n",
    "\n",
    "# Set the title of the plot\n",
    "plot.set_title('Number of Users in each gender in two groups');"
   ]
  },
  {
   "cell_type": "markdown",
   "metadata": {},
   "source": [
    ".There is a higher proportion of male users who churn compared to female users"
   ]
  },
  {
   "cell_type": "markdown",
   "metadata": {},
   "source": [
    "#### Page"
   ]
  },
  {
   "cell_type": "code",
   "execution_count": 32,
   "metadata": {},
   "outputs": [
    {
     "data": {
      "text/html": [
       "<div>\n",
       "<style scoped>\n",
       "    .dataframe tbody tr th:only-of-type {\n",
       "        vertical-align: middle;\n",
       "    }\n",
       "\n",
       "    .dataframe tbody tr th {\n",
       "        vertical-align: top;\n",
       "    }\n",
       "\n",
       "    .dataframe thead th {\n",
       "        text-align: right;\n",
       "    }\n",
       "</style>\n",
       "<table border=\"1\" class=\"dataframe\">\n",
       "  <thead>\n",
       "    <tr style=\"text-align: right;\">\n",
       "      <th></th>\n",
       "      <th>page</th>\n",
       "      <th>churned</th>\n",
       "      <th>count</th>\n",
       "    </tr>\n",
       "  </thead>\n",
       "  <tbody>\n",
       "    <tr>\n",
       "      <th>0</th>\n",
       "      <td>Settings</td>\n",
       "      <td>0</td>\n",
       "      <td>152</td>\n",
       "    </tr>\n",
       "    <tr>\n",
       "      <th>1</th>\n",
       "      <td>Thumbs Down</td>\n",
       "      <td>1</td>\n",
       "      <td>48</td>\n",
       "    </tr>\n",
       "    <tr>\n",
       "      <th>2</th>\n",
       "      <td>Thumbs Up</td>\n",
       "      <td>1</td>\n",
       "      <td>50</td>\n",
       "    </tr>\n",
       "    <tr>\n",
       "      <th>3</th>\n",
       "      <td>Add to Playlist</td>\n",
       "      <td>1</td>\n",
       "      <td>50</td>\n",
       "    </tr>\n",
       "    <tr>\n",
       "      <th>4</th>\n",
       "      <td>Error</td>\n",
       "      <td>1</td>\n",
       "      <td>22</td>\n",
       "    </tr>\n",
       "    <tr>\n",
       "      <th>5</th>\n",
       "      <td>About</td>\n",
       "      <td>1</td>\n",
       "      <td>31</td>\n",
       "    </tr>\n",
       "    <tr>\n",
       "      <th>6</th>\n",
       "      <td>Thumbs Down</td>\n",
       "      <td>0</td>\n",
       "      <td>155</td>\n",
       "    </tr>\n",
       "    <tr>\n",
       "      <th>7</th>\n",
       "      <td>Roll Advert</td>\n",
       "      <td>1</td>\n",
       "      <td>50</td>\n",
       "    </tr>\n",
       "    <tr>\n",
       "      <th>8</th>\n",
       "      <td>Home</td>\n",
       "      <td>0</td>\n",
       "      <td>172</td>\n",
       "    </tr>\n",
       "    <tr>\n",
       "      <th>9</th>\n",
       "      <td>Cancellation Confirmation</td>\n",
       "      <td>1</td>\n",
       "      <td>52</td>\n",
       "    </tr>\n",
       "  </tbody>\n",
       "</table>\n",
       "</div>"
      ],
      "text/plain": [
       "                        page  churned  count\n",
       "0                   Settings        0    152\n",
       "1                Thumbs Down        1     48\n",
       "2                  Thumbs Up        1     50\n",
       "3            Add to Playlist        1     50\n",
       "4                      Error        1     22\n",
       "5                      About        1     31\n",
       "6                Thumbs Down        0    155\n",
       "7                Roll Advert        1     50\n",
       "8                       Home        0    172\n",
       "9  Cancellation Confirmation        1     52"
      ]
     },
     "execution_count": 32,
     "metadata": {},
     "output_type": "execute_result"
    }
   ],
   "source": [
    "churned_page = df_sparkify.select(['userId', 'churned', 'page']).dropDuplicates().groupBy('page','churned').count()\n",
    "churned_page = churned_page.toPandas()\n",
    "churned_page.head(10)"
   ]
  },
  {
   "cell_type": "code",
   "execution_count": 33,
   "metadata": {},
   "outputs": [],
   "source": [
    "churned_count_df = churned_page[churned_page['churned']==1].sum()\n",
    "stay_count_df = churned_page[churned_page['churned']==0].sum()"
   ]
  },
  {
   "cell_type": "code",
   "execution_count": 34,
   "metadata": {},
   "outputs": [],
   "source": [
    "churned_page['rate'] = np.where(\n",
    "    churned_page['churned'] == 0, churned_page['count']/stay_count_df['count'], np.where(\n",
    "    churned_page['churned'] == 1, churned_page['count']/churned_count_df['count'],churned_page['count']/churned_count_df['count'])) "
   ]
  },
  {
   "cell_type": "code",
   "execution_count": 35,
   "metadata": {},
   "outputs": [
    {
     "data": {
      "image/png": "[encoded data removed]",
      "text/plain": [
       "<matplotlib.figure.Figure at 0x7fb31d874320>"
      ]
     },
     "metadata": {
      "needs_background": "light"
     },
     "output_type": "display_data"
    }
   ],
   "source": [
    "# plot the pages by churned\n",
    "plt.figure(figsize=[20,10])\n",
    "sns.barplot(data = churned_page, x = 'rate', y = 'page', hue = 'churned', palette=['r', 'b'])\n",
    "plt.title('Rate of Pages Navigated compare between two groups');"
   ]
  },
  {
   "cell_type": "markdown",
   "metadata": {},
   "source": [
    "According to the above figure, the most popular action for both those who stayed and those who left was to skip to the next song. We can also see that churned users are more likely to roll the ad and thumbs down music. Those that were more inclined to stay did more thumbs up, added friends, and added songs to their playlist."
   ]
  },
  {
   "cell_type": "markdown",
   "metadata": {},
   "source": [
    "#### Songs Per Session"
   ]
  },
  {
   "cell_type": "code",
   "execution_count": 36,
   "metadata": {},
   "outputs": [],
   "source": [
    "songs_per_sess = df_sparkify.filter(df_sparkify.page == \"NextSong\").dropDuplicates().groupBy('sessionId','churned').count()"
   ]
  },
  {
   "cell_type": "code",
   "execution_count": 37,
   "metadata": {},
   "outputs": [
    {
     "name": "stdout",
     "output_type": "stream",
     "text": [
      "+-------+-----------------+\n",
      "|churned|       avg(count)|\n",
      "+-------+-----------------+\n",
      "|      0| 93.3369036027264|\n",
      "|      1|79.81140350877193|\n",
      "+-------+-----------------+\n",
      "\n"
     ]
    }
   ],
   "source": [
    "songs_per_sess.groupby('churned').agg({\"count\":\"avg\"}).show()"
   ]
  },
  {
   "cell_type": "code",
   "execution_count": 38,
   "metadata": {},
   "outputs": [],
   "source": [
    "df_songs = songs_per_sess.groupby('churned').agg({\"count\":\"avg\"}).toPandas()"
   ]
  },
  {
   "cell_type": "code",
   "execution_count": 39,
   "metadata": {},
   "outputs": [
    {
     "data": {
      "image/png": "[encoded data removed]",
      "text/plain": [
       "<matplotlib.figure.Figure at 0x7fb31dd666d8>"
      ]
     },
     "metadata": {
      "needs_background": "light"
     },
     "output_type": "display_data"
    }
   ],
   "source": [
    "plt.figure(figsize = [16, 9]);\n",
    "plot = sns.barplot(data=df_songs, x=\"churned\", y=\"avg(count)\",  palette=['r', 'b'])\n",
    "plt.title(\"Average number of Songs Played per Session for Users that Churned vs. Users that Stayed\")\n",
    "plt.ylabel(\"Average Number of Songs Played Per Session\");\n",
    "\n",
    "# Iterate over the bars in the plot\n",
    "for p in plot.patches:\n",
    "    # Get the height of the bar\n",
    "    height = p.get_height()\n",
    "    # Add an annotation to the plot at the center of the bar\n",
    "    plot.axes.text(p.get_x() + p.get_width() / 2, height, height, ha='center', va='bottom', fontsize=14, color='black')"
   ]
  },
  {
   "cell_type": "markdown",
   "metadata": {},
   "source": [
    "According to the graph, users that churn from Sparkify listen to less songs on average per session."
   ]
  },
  {
   "cell_type": "markdown",
   "metadata": {},
   "source": [
    "#### Browser and Operating System"
   ]
  },
  {
   "cell_type": "code",
   "execution_count": 40,
   "metadata": {},
   "outputs": [
    {
     "data": {
      "text/html": [
       "<div>\n",
       "<style scoped>\n",
       "    .dataframe tbody tr th:only-of-type {\n",
       "        vertical-align: middle;\n",
       "    }\n",
       "\n",
       "    .dataframe tbody tr th {\n",
       "        vertical-align: top;\n",
       "    }\n",
       "\n",
       "    .dataframe thead th {\n",
       "        text-align: right;\n",
       "    }\n",
       "</style>\n",
       "<table border=\"1\" class=\"dataframe\">\n",
       "  <thead>\n",
       "    <tr style=\"text-align: right;\">\n",
       "      <th></th>\n",
       "      <th>userId</th>\n",
       "      <th>userAgent</th>\n",
       "      <th>churned</th>\n",
       "    </tr>\n",
       "  </thead>\n",
       "  <tbody>\n",
       "    <tr>\n",
       "      <th>0</th>\n",
       "      <td>100010</td>\n",
       "      <td>\"Mozilla/5.0 (iPhone; CPU iPhone OS 7_1_2 like...</td>\n",
       "      <td>0</td>\n",
       "    </tr>\n",
       "    <tr>\n",
       "      <th>1</th>\n",
       "      <td>200002</td>\n",
       "      <td>\"Mozilla/5.0 (iPhone; CPU iPhone OS 7_1 like M...</td>\n",
       "      <td>0</td>\n",
       "    </tr>\n",
       "    <tr>\n",
       "      <th>2</th>\n",
       "      <td>125</td>\n",
       "      <td>\"Mozilla/5.0 (Macintosh; Intel Mac OS X 10_9_4...</td>\n",
       "      <td>1</td>\n",
       "    </tr>\n",
       "    <tr>\n",
       "      <th>3</th>\n",
       "      <td>124</td>\n",
       "      <td>\"Mozilla/5.0 (Macintosh; Intel Mac OS X 10_9_4...</td>\n",
       "      <td>0</td>\n",
       "    </tr>\n",
       "    <tr>\n",
       "      <th>4</th>\n",
       "      <td>51</td>\n",
       "      <td>\"Mozilla/5.0 (Windows NT 6.1; WOW64) AppleWebK...</td>\n",
       "      <td>1</td>\n",
       "    </tr>\n",
       "  </tbody>\n",
       "</table>\n",
       "</div>"
      ],
      "text/plain": [
       "   userId                                          userAgent  churned\n",
       "0  100010  \"Mozilla/5.0 (iPhone; CPU iPhone OS 7_1_2 like...        0\n",
       "1  200002  \"Mozilla/5.0 (iPhone; CPU iPhone OS 7_1 like M...        0\n",
       "2     125  \"Mozilla/5.0 (Macintosh; Intel Mac OS X 10_9_4...        1\n",
       "3     124  \"Mozilla/5.0 (Macintosh; Intel Mac OS X 10_9_4...        0\n",
       "4      51  \"Mozilla/5.0 (Windows NT 6.1; WOW64) AppleWebK...        1"
      ]
     },
     "execution_count": 40,
     "metadata": {},
     "output_type": "execute_result"
    }
   ],
   "source": [
    "os_df = df_sparkify.select(\"userId\", \"userAgent\", \"churned\").dropDuplicates(['userId']).toPandas()\n",
    "os_df.head()"
   ]
  },
  {
   "cell_type": "code",
   "execution_count": 41,
   "metadata": {},
   "outputs": [],
   "source": [
    "list_os = [\"Windows\", \"Mac\", \"Linux\", \"iPhone\", \"iPad\"]\n",
    "os_df['os'] = os_df.userAgent.str.extract('(?i)({0})'.format('|'.join(list_os)))"
   ]
  },
  {
   "cell_type": "code",
   "execution_count": 42,
   "metadata": {},
   "outputs": [
    {
     "data": {
      "image/png": "[encoded data removed]",
      "text/plain": [
       "<matplotlib.figure.Figure at 0x7fb31deb0748>"
      ]
     },
     "metadata": {
      "needs_background": "light"
     },
     "output_type": "display_data"
    }
   ],
   "source": [
    "plt.figure(figsize=[16,10])\n",
    "sns.countplot(data = os_df, x = 'os', hue ='churned', palette=['r', 'b'])\n",
    "plt.title('Compare the number of users by operating system between two groups')\n",
    "plt.legend(loc = 1, ncol = 2, framealpha =1, title = 'level');"
   ]
  },
  {
   "cell_type": "markdown",
   "metadata": {},
   "source": [
    "We can see that Windows and Mac are the two operating systems with the most users."
   ]
  },
  {
   "cell_type": "code",
   "execution_count": 43,
   "metadata": {},
   "outputs": [],
   "source": [
    "list_browser = [\"Chrome\", \"Firefox\", \"Safari\", \"Trident\"]\n",
    "os_df['browser'] = os_df.userAgent.str.extract('(?i)({0})'.format('|'.join(list_browser)))"
   ]
  },
  {
   "cell_type": "code",
   "execution_count": 44,
   "metadata": {},
   "outputs": [
    {
     "data": {
      "image/png": "[encoded data removed]",
      "text/plain": [
       "<matplotlib.figure.Figure at 0x7fb31e0c94a8>"
      ]
     },
     "metadata": {
      "needs_background": "light"
     },
     "output_type": "display_data"
    }
   ],
   "source": [
    "plt.figure(figsize=[16,10])\n",
    "sns.countplot(data = os_df, x = 'browser', hue ='churned', palette=['r','b'])\n",
    "plt.title('Compare the number of users by browers between two groups')\n",
    "plt.legend(loc = 1, ncol = 2, framealpha =1, title = 'level');"
   ]
  },
  {
   "cell_type": "markdown",
   "metadata": {},
   "source": [
    "Chrome was the most popular browser. Firefox users had the greatest churn rate. Trident had the lowest user churn rate. There is no obvious issue with browsers that is driving customers away. As a result, this will not be incorporated into our model."
   ]
  },
  {
   "cell_type": "markdown",
   "metadata": {},
   "source": [
    "#### Location"
   ]
  },
  {
   "cell_type": "code",
   "execution_count": 45,
   "metadata": {},
   "outputs": [
    {
     "data": {
      "text/html": [
       "<div>\n",
       "<style scoped>\n",
       "    .dataframe tbody tr th:only-of-type {\n",
       "        vertical-align: middle;\n",
       "    }\n",
       "\n",
       "    .dataframe tbody tr th {\n",
       "        vertical-align: top;\n",
       "    }\n",
       "\n",
       "    .dataframe thead th {\n",
       "        text-align: right;\n",
       "    }\n",
       "</style>\n",
       "<table border=\"1\" class=\"dataframe\">\n",
       "  <thead>\n",
       "    <tr style=\"text-align: right;\">\n",
       "      <th></th>\n",
       "      <th>state</th>\n",
       "      <th>churned</th>\n",
       "      <th>count</th>\n",
       "    </tr>\n",
       "  </thead>\n",
       "  <tbody>\n",
       "    <tr>\n",
       "      <th>0</th>\n",
       "      <td>AL</td>\n",
       "      <td>0</td>\n",
       "      <td>4</td>\n",
       "    </tr>\n",
       "    <tr>\n",
       "      <th>1</th>\n",
       "      <td>IL</td>\n",
       "      <td>0</td>\n",
       "      <td>8</td>\n",
       "    </tr>\n",
       "    <tr>\n",
       "      <th>2</th>\n",
       "      <td>AZ</td>\n",
       "      <td>1</td>\n",
       "      <td>2</td>\n",
       "    </tr>\n",
       "    <tr>\n",
       "      <th>3</th>\n",
       "      <td>OH</td>\n",
       "      <td>0</td>\n",
       "      <td>1</td>\n",
       "    </tr>\n",
       "    <tr>\n",
       "      <th>4</th>\n",
       "      <td>AL</td>\n",
       "      <td>1</td>\n",
       "      <td>2</td>\n",
       "    </tr>\n",
       "  </tbody>\n",
       "</table>\n",
       "</div>"
      ],
      "text/plain": [
       "  state  churned  count\n",
       "0    AL        0      4\n",
       "1    IL        0      8\n",
       "2    AZ        1      2\n",
       "3    OH        0      1\n",
       "4    AL        1      2"
      ]
     },
     "execution_count": 45,
     "metadata": {},
     "output_type": "execute_result"
    }
   ],
   "source": [
    "# get last two characters\n",
    "get_state = udf(lambda x: x[-2:])\n",
    "# create state column\n",
    "df_state = df_sparkify.withColumn(\"state\", get_state(df_sparkify.location))\n",
    "df_state = df_state.select(\"state\", \"userId\", \"churned\").dropDuplicates().groupby(\"state\", \"churned\").count()\n",
    "# convert to pandas \n",
    "df_state_pd = df_state.toPandas()\n",
    "# check that create state column worked\n",
    "df_state_pd.head()"
   ]
  },
  {
   "cell_type": "code",
   "execution_count": 46,
   "metadata": {},
   "outputs": [
    {
     "data": {
      "image/png": "[encoded data removed]",
      "text/plain": [
       "<matplotlib.figure.Figure at 0x7fb31e1e05c0>"
      ]
     },
     "metadata": {
      "needs_background": "light"
     },
     "output_type": "display_data"
    }
   ],
   "source": [
    "# plot \n",
    "plt.figure(figsize=[20,16])\n",
    "sns.barplot(data = df_state_pd, x = 'count', y = 'state', hue = 'churned', palette=['r','b'])\n",
    "plt.title('Count of Users Who Left vs. Users Who Stayed by US State');"
   ]
  },
  {
   "cell_type": "markdown",
   "metadata": {},
   "source": [
    "The majority of users were from California. More users left than stayed in Michigan, Kentucky, and Ohio. When it comes to modeling, this may be tough to develop a meaningful feature for. "
   ]
  },
  {
   "cell_type": "markdown",
   "metadata": {},
   "source": [
    "#### Days Since Registration for Sparkify\n"
   ]
  },
  {
   "cell_type": "code",
   "execution_count": 47,
   "metadata": {},
   "outputs": [
    {
     "name": "stdout",
     "output_type": "stream",
     "text": [
      "+------+-------------+-------------+-------+----+\n",
      "|userId| registration|           ts|churned|Rank|\n",
      "+------+-------------+-------------+-------+----+\n",
      "|    10|1538159495000|1542631788000|      0|   1|\n",
      "|    10|1538159495000|1542631753000|      0|   2|\n",
      "|    10|1538159495000|1542631690000|      0|   3|\n",
      "|    10|1538159495000|1542631518000|      0|   4|\n",
      "|    10|1538159495000|1542631517000|      0|   5|\n",
      "|    10|1538159495000|1542631090000|      0|   6|\n",
      "|    10|1538159495000|1542630866000|      0|   7|\n",
      "|    10|1538159495000|1542630637000|      0|   8|\n",
      "|    10|1538159495000|1542630407000|      0|   9|\n",
      "|    10|1538159495000|1542630394000|      0|  10|\n",
      "|    10|1538159495000|1542630248000|      0|  11|\n",
      "|    10|1538159495000|1542630247000|      0|  12|\n",
      "|    10|1538159495000|1542630029000|      0|  13|\n",
      "|    10|1538159495000|1542629861000|      0|  14|\n",
      "|    10|1538159495000|1542629636000|      0|  15|\n",
      "|    10|1538159495000|1542629464000|      0|  16|\n",
      "|    10|1538159495000|1542629238000|      0|  17|\n",
      "|    10|1538159495000|1542629029000|      0|  18|\n",
      "|    10|1538159495000|1542629028000|      0|  19|\n",
      "|    10|1538159495000|1542628798000|      0|  20|\n",
      "+------+-------------+-------------+-------+----+\n",
      "only showing top 20 rows\n",
      "\n"
     ]
    }
   ],
   "source": [
    "days_df = df_sparkify.select(['userId', 'registration', 'ts', 'churned']).dropDuplicates().sort('userId')\n",
    "# order by last timestamp\n",
    "w = Window.partitionBy(\"userId\").orderBy(desc(\"ts\"))\n",
    "# create a rank with the most recent timestamp as rank number 1\n",
    "days_df = days_df.withColumn(\"Rank\", dense_rank().over(w))\n",
    "days_df.show()"
   ]
  },
  {
   "cell_type": "code",
   "execution_count": 48,
   "metadata": {},
   "outputs": [
    {
     "data": {
      "text/html": [
       "<div>\n",
       "<style scoped>\n",
       "    .dataframe tbody tr th:only-of-type {\n",
       "        vertical-align: middle;\n",
       "    }\n",
       "\n",
       "    .dataframe tbody tr th {\n",
       "        vertical-align: top;\n",
       "    }\n",
       "\n",
       "    .dataframe thead th {\n",
       "        text-align: right;\n",
       "    }\n",
       "</style>\n",
       "<table border=\"1\" class=\"dataframe\">\n",
       "  <thead>\n",
       "    <tr style=\"text-align: right;\">\n",
       "      <th></th>\n",
       "      <th>userId</th>\n",
       "      <th>registration</th>\n",
       "      <th>ts</th>\n",
       "      <th>churned</th>\n",
       "      <th>delta_days</th>\n",
       "      <th>days</th>\n",
       "    </tr>\n",
       "  </thead>\n",
       "  <tbody>\n",
       "    <tr>\n",
       "      <th>0</th>\n",
       "      <td>10</td>\n",
       "      <td>1538159495000</td>\n",
       "      <td>1542631788000</td>\n",
       "      <td>0</td>\n",
       "      <td>4472293000</td>\n",
       "      <td>51.762650</td>\n",
       "    </tr>\n",
       "    <tr>\n",
       "      <th>1</th>\n",
       "      <td>100</td>\n",
       "      <td>1537982255000</td>\n",
       "      <td>1543587349000</td>\n",
       "      <td>0</td>\n",
       "      <td>5605094000</td>\n",
       "      <td>64.873773</td>\n",
       "    </tr>\n",
       "    <tr>\n",
       "      <th>2</th>\n",
       "      <td>100001</td>\n",
       "      <td>1534627466000</td>\n",
       "      <td>1538498205000</td>\n",
       "      <td>1</td>\n",
       "      <td>3870739000</td>\n",
       "      <td>44.800220</td>\n",
       "    </tr>\n",
       "    <tr>\n",
       "      <th>3</th>\n",
       "      <td>100002</td>\n",
       "      <td>1529934689000</td>\n",
       "      <td>1543799476000</td>\n",
       "      <td>0</td>\n",
       "      <td>13864787000</td>\n",
       "      <td>160.472072</td>\n",
       "    </tr>\n",
       "    <tr>\n",
       "      <th>4</th>\n",
       "      <td>100003</td>\n",
       "      <td>1537309344000</td>\n",
       "      <td>1539274781000</td>\n",
       "      <td>1</td>\n",
       "      <td>1965437000</td>\n",
       "      <td>22.748113</td>\n",
       "    </tr>\n",
       "  </tbody>\n",
       "</table>\n",
       "</div>"
      ],
      "text/plain": [
       "   userId   registration             ts  churned   delta_days        days\n",
       "0      10  1538159495000  1542631788000        0   4472293000   51.762650\n",
       "1     100  1537982255000  1543587349000        0   5605094000   64.873773\n",
       "2  100001  1534627466000  1538498205000        1   3870739000   44.800220\n",
       "3  100002  1529934689000  1543799476000        0  13864787000  160.472072\n",
       "4  100003  1537309344000  1539274781000        1   1965437000   22.748113"
      ]
     },
     "execution_count": 48,
     "metadata": {},
     "output_type": "execute_result"
    }
   ],
   "source": [
    "days_df = days_df.filter(days_df.Rank == 1).drop(days_df.Rank)\n",
    "# minus the registration from ts \n",
    "days_df = days_df.withColumn(\"delta_days\", (days_df['ts']) - (days_df['registration']))\n",
    "days_df = days_df.withColumn('days',(days_df['delta_days']/1000/3600/24))\n",
    "df_days_pd = days_df.toPandas()\n",
    "df_days_pd.head()"
   ]
  },
  {
   "cell_type": "code",
   "execution_count": 49,
   "metadata": {},
   "outputs": [
    {
     "data": {
      "image/png": "[encoded data removed]",
      "text/plain": [
       "<matplotlib.figure.Figure at 0x7fb31e52b908>"
      ]
     },
     "metadata": {
      "needs_background": "light"
     },
     "output_type": "display_data"
    }
   ],
   "source": [
    "plt.figure(figsize=[16,10])\n",
    "sns.boxplot(data = df_days_pd, x = 'churned', y ='days')\n",
    "plt.title('Number of Users Who Chose to Leave Compared to Users Who Stayed by Days Since Registration')\n",
    "plt.ylabel(\"Days Since Registered\");"
   ]
  },
  {
   "cell_type": "markdown",
   "metadata": {},
   "source": [
    "Longer-standing Sparkify users were often more inclined to stick around. More recently registered users were more likely to churn."
   ]
  },
  {
   "cell_type": "markdown",
   "metadata": {},
   "source": [
    "# Feature Engineering\n",
    "Once you've familiarized yourself with the data, build out the features you find promising to train your model on. To work with the full dataset, you can follow the following steps.\n",
    "- Write a script to extract the necessary features from the smaller subset of data\n",
    "- Ensure that your script is scalable, using the best practices discussed in Lesson 3\n",
    "- Try your script on the full data set, debugging your script if necessary\n",
    "\n",
    "If you are working in the classroom workspace, you can just extract features based on the small subset of data contained here. Be sure to transfer over this work to the larger dataset when you work on your Spark cluster."
   ]
  },
  {
   "cell_type": "markdown",
   "metadata": {},
   "source": [
    "The features selected to keep for purpose label for churned users:\n",
    "- Number of Artist.\n",
    "- Gender of users: Male or Female.\n",
    "- Number of songs/session.\n",
    "- Length of songs/session.\n",
    "- Level: Paid or Free.\n",
    "- Number of each actions: Roll Advert, \"ThumbsUp\", \"ThumbsDown\", \"InviteFriends\", \"downgrades\"\n",
    "- The user account age.\n",
    "\n",
    "I will create a label called 'churn' by combining these elements together and will use this label as the target for our analysis. The resulting data frame will have a row for each unique user and will include information about each user. Before using this data frame with machine learning algorithms, I will first vectorize, standardize. Additionally, I will convert any categorical variables to numerical values to prepare the data for modeling."
   ]
  },
  {
   "cell_type": "markdown",
   "metadata": {},
   "source": [
    "### Number of Artist."
   ]
  },
  {
   "cell_type": "code",
   "execution_count": 50,
   "metadata": {},
   "outputs": [
    {
     "name": "stdout",
     "output_type": "stream",
     "text": [
      "+------+-------------+\n",
      "|userId|num_of_aritst|\n",
      "+------+-------------+\n",
      "|100010|          253|\n",
      "|200002|          340|\n",
      "|   125|            9|\n",
      "|    51|         1386|\n",
      "|   124|         2233|\n",
      "+------+-------------+\n",
      "only showing top 5 rows\n",
      "\n"
     ]
    }
   ],
   "source": [
    "number_of_artists = df_sparkify.select('userId', 'artist').dropDuplicates().groupBy('userId').count().withColumnRenamed(\"count\", \"num_of_aritst\")\n",
    "number_of_artists.show(5)"
   ]
  },
  {
   "cell_type": "markdown",
   "metadata": {},
   "source": [
    "### Gender of users: Male or Female."
   ]
  },
  {
   "cell_type": "code",
   "execution_count": 51,
   "metadata": {},
   "outputs": [
    {
     "name": "stdout",
     "output_type": "stream",
     "text": [
      "+------+------+\n",
      "|userId|gender|\n",
      "+------+------+\n",
      "|    44|     1|\n",
      "|    46|     1|\n",
      "|    41|     1|\n",
      "|    72|     1|\n",
      "|300023|     1|\n",
      "|    39|     1|\n",
      "|100010|     1|\n",
      "|    40|     1|\n",
      "|    94|     1|\n",
      "|    35|     1|\n",
      "+------+------+\n",
      "only showing top 10 rows\n",
      "\n"
     ]
    }
   ],
   "source": [
    "# Swicth gender to numeric values by assign value \"0\" with Male and \"0\" with Female\n",
    "gender = df_sparkify.select(['userId', 'gender']).dropDuplicates()\n",
    "gender = gender.withColumn('gender', when(col('gender') == 'M', 0).otherwise(1))\n",
    "gender.show(10)"
   ]
  },
  {
   "cell_type": "markdown",
   "metadata": {},
   "source": [
    "### Number of songs/session."
   ]
  },
  {
   "cell_type": "code",
   "execution_count": 52,
   "metadata": {},
   "outputs": [
    {
     "name": "stdout",
     "output_type": "stream",
     "text": [
      "+------+------------------+\n",
      "|userId|          avg_song|\n",
      "+------+------------------+\n",
      "|100010|39.285714285714285|\n",
      "|200002|              64.5|\n",
      "|   125|               8.0|\n",
      "|    51|             211.1|\n",
      "|   124|145.67857142857142|\n",
      "+------+------------------+\n",
      "only showing top 5 rows\n",
      "\n"
     ]
    }
   ],
   "source": [
    "num_of_song = df_sparkify.filter(df_sparkify.page == \"NextSong\").groupBy('userId','sessionId').count()\n",
    "num_of_song = num_of_song.groupby('userId').agg({\"count\":\"avg\"})\n",
    "num_of_song = num_of_song.withColumnRenamed(\"avg(count)\", \"avg_song\")\n",
    "num_of_song.show(5)"
   ]
  },
  {
   "cell_type": "markdown",
   "metadata": {},
   "source": [
    "### Length of songs/session."
   ]
  },
  {
   "cell_type": "code",
   "execution_count": 53,
   "metadata": {},
   "outputs": [
    {
     "name": "stdout",
     "output_type": "stream",
     "text": [
      "+------+------------------+------------------+\n",
      "|userId|       mean_length|      stdev_length|\n",
      "+------+------------------+------------------+\n",
      "|100010|2.6563848154761907|1.5940891633984364|\n",
      "|200002|       4.352262775| 3.481087253628621|\n",
      "|   125|0.5803091944444445|               0.0|\n",
      "|    51|14.535440077777778|11.600663366034107|\n",
      "|   124|10.042778698313494| 9.370878101268762|\n",
      "|     7|1.5092891706349203|1.7372572756564078|\n",
      "|    54| 5.645594599523808|6.7241639034102025|\n",
      "|    15| 9.470389004166666| 6.159367750898716|\n",
      "|   155|  9.20274499537037| 6.528671599395436|\n",
      "|100014| 3.134420003703703|1.7543652306205215|\n",
      "+------+------------------+------------------+\n",
      "only showing top 10 rows\n",
      "\n"
     ]
    }
   ],
   "source": [
    "length_of_song = df_sparkify.filter(df_sparkify.page=='NextSong').select('userId', 'sessionId', 'length')\n",
    "length_of_song = length_of_song.withColumn('length', (length_of_song.length / 3600))\n",
    "length_of_song = length_of_song.groupBy('userId', 'sessionId').sum('length')\n",
    "length_of_song = length_of_song.groupBy('userId').agg(\n",
    "                        F.avg('sum(length)').alias('mean_length'), \n",
    "                        F.stddev('sum(length)').alias('stdev_length')).na.fill(0)\n",
    "length_of_song.show(10)"
   ]
  },
  {
   "cell_type": "markdown",
   "metadata": {},
   "source": [
    "### Level: Paid or Free."
   ]
  },
  {
   "cell_type": "code",
   "execution_count": 54,
   "metadata": {},
   "outputs": [
    {
     "name": "stdout",
     "output_type": "stream",
     "text": [
      "+------+-----+-------------+----+\n",
      "|userId|level|           ts|Rank|\n",
      "+------+-----+-------------+----+\n",
      "|    10| paid|1542631788000|   1|\n",
      "|    10| paid|1542631753000|   2|\n",
      "|    10| paid|1542631690000|   3|\n",
      "|    10| paid|1542631518000|   4|\n",
      "|    10| paid|1542631517000|   5|\n",
      "|    10| paid|1542631090000|   6|\n",
      "|    10| paid|1542630866000|   7|\n",
      "|    10| paid|1542630637000|   8|\n",
      "|    10| paid|1542630407000|   9|\n",
      "|    10| paid|1542630394000|  10|\n",
      "+------+-----+-------------+----+\n",
      "only showing top 10 rows\n",
      "\n"
     ]
    }
   ],
   "source": [
    "level = df_sparkify.select(['userId', 'level', 'ts']).dropDuplicates().sort('userId')\n",
    "w = Window.partitionBy(\"userId\").orderBy(desc(\"ts\"))\n",
    "level = level.withColumn(\"Rank\", dense_rank().over(w))\n",
    "level.show(10)"
   ]
  },
  {
   "cell_type": "code",
   "execution_count": 55,
   "metadata": {},
   "outputs": [
    {
     "name": "stdout",
     "output_type": "stream",
     "text": [
      "+------+-----+\n",
      "|userId|level|\n",
      "+------+-----+\n",
      "|    10|    1|\n",
      "|   100|    1|\n",
      "|100001|    0|\n",
      "|100002|    1|\n",
      "|100003|    0|\n",
      "|100004|    1|\n",
      "|100005|    0|\n",
      "|100006|    0|\n",
      "|100007|    1|\n",
      "|100008|    0|\n",
      "+------+-----+\n",
      "only showing top 10 rows\n",
      "\n"
     ]
    }
   ],
   "source": [
    "# Swicth level to numeric values by assign value \"0\" with Free and \"1\" with Paid\n",
    "level = level.filter(level.Rank == 1).drop(level.Rank)\n",
    "level = level.drop('ts')\n",
    "level = level.withColumn('level', when(col('level') == 'free', 0).otherwise(1))\n",
    "level.show(10)"
   ]
  },
  {
   "cell_type": "markdown",
   "metadata": {},
   "source": [
    "### Number of each actions: Roll Advert, \"ThumbsUp\", \"ThumbsDown\", \"InviteFriends\", \"downgrades\""
   ]
  },
  {
   "cell_type": "code",
   "execution_count": 56,
   "metadata": {},
   "outputs": [],
   "source": [
    "def number_of_actions(df_sparkify, action_name, page):\n",
    "    actions = df_sparkify.select([\"userId\", \"page\"])\n",
    "    actions_flag = udf(lambda x: 1 if x == page else 0, IntegerType())\n",
    "    actions = actions.withColumn(action_name, actions_flag(\"page\"))\n",
    "    actions = actions.groupby('userId').sum(action_name)\n",
    "    return actions"
   ]
  },
  {
   "cell_type": "code",
   "execution_count": 57,
   "metadata": {},
   "outputs": [
    {
     "name": "stdout",
     "output_type": "stream",
     "text": [
      "+------+----------------+\n",
      "|userId|sum(roll_advert)|\n",
      "+------+----------------+\n",
      "|100010|              52|\n",
      "|200002|               7|\n",
      "|   125|               1|\n",
      "|    51|               0|\n",
      "|   124|               4|\n",
      "+------+----------------+\n",
      "only showing top 5 rows\n",
      "\n"
     ]
    }
   ],
   "source": [
    "# Roll Advert\n",
    "roll_advert = number_of_actions(df_sparkify, \"roll_advert\", \"Roll Advert\")\n",
    "roll_advert.show(5)"
   ]
  },
  {
   "cell_type": "code",
   "execution_count": 58,
   "metadata": {},
   "outputs": [
    {
     "name": "stdout",
     "output_type": "stream",
     "text": [
      "+------+--------------+\n",
      "|userId|sum(thumbs_up)|\n",
      "+------+--------------+\n",
      "|100010|            17|\n",
      "|200002|            21|\n",
      "|   125|             0|\n",
      "|    51|           100|\n",
      "|   124|           171|\n",
      "+------+--------------+\n",
      "only showing top 5 rows\n",
      "\n"
     ]
    }
   ],
   "source": [
    "# Thumbs Up\n",
    "thumbs_up = number_of_actions(df_sparkify, \"thumbs_up\", \"Thumbs Up\")\n",
    "thumbs_up.show(5)"
   ]
  },
  {
   "cell_type": "code",
   "execution_count": 59,
   "metadata": {},
   "outputs": [
    {
     "name": "stdout",
     "output_type": "stream",
     "text": [
      "+------+----------------+\n",
      "|userId|sum(thumbs_down)|\n",
      "+------+----------------+\n",
      "|100010|               5|\n",
      "|200002|               6|\n",
      "|   125|               0|\n",
      "|    51|              21|\n",
      "|   124|              41|\n",
      "+------+----------------+\n",
      "only showing top 5 rows\n",
      "\n"
     ]
    }
   ],
   "source": [
    "# Thumbs Down\n",
    "thumbs_down = number_of_actions(df_sparkify, \"thumbs_down\", \"Thumbs Down\")\n",
    "thumbs_down.show(5)"
   ]
  },
  {
   "cell_type": "code",
   "execution_count": 60,
   "metadata": {},
   "outputs": [
    {
     "name": "stdout",
     "output_type": "stream",
     "text": [
      "+------+---------------+\n",
      "|userId|sum(invite_fen)|\n",
      "+------+---------------+\n",
      "|100010|              4|\n",
      "|200002|              4|\n",
      "|   125|              0|\n",
      "|    51|             28|\n",
      "|   124|             74|\n",
      "+------+---------------+\n",
      "only showing top 5 rows\n",
      "\n"
     ]
    }
   ],
   "source": [
    "# Invite Friends\n",
    "invite_fen = number_of_actions(df_sparkify, \"invite_fen\", \"Add Friend\")\n",
    "invite_fen.show(5)"
   ]
  },
  {
   "cell_type": "code",
   "execution_count": 61,
   "metadata": {},
   "outputs": [
    {
     "name": "stdout",
     "output_type": "stream",
     "text": [
      "+------+---------------+\n",
      "|userId|sum(down_grade)|\n",
      "+------+---------------+\n",
      "|100010|              0|\n",
      "|200002|              5|\n",
      "|   125|              0|\n",
      "|    51|             23|\n",
      "|   124|             41|\n",
      "+------+---------------+\n",
      "only showing top 5 rows\n",
      "\n"
     ]
    }
   ],
   "source": [
    "# Downgrade\n",
    "down_grade = number_of_actions(df_sparkify, \"down_grade\", \"Downgrade\")\n",
    "down_grade.show(5)"
   ]
  },
  {
   "cell_type": "code",
   "execution_count": 62,
   "metadata": {},
   "outputs": [
    {
     "name": "stdout",
     "output_type": "stream",
     "text": [
      "+------+-------------+\n",
      "|userId|sum(playlist)|\n",
      "+------+-------------+\n",
      "|100010|            7|\n",
      "|200002|            8|\n",
      "|   125|            0|\n",
      "|    51|           52|\n",
      "|   124|          118|\n",
      "+------+-------------+\n",
      "only showing top 5 rows\n",
      "\n"
     ]
    }
   ],
   "source": [
    "### Number of songs added to playlist\n",
    "playlist = number_of_actions(df_sparkify, \"playlist\", \"Add to Playlist\")\n",
    "playlist.show(5)"
   ]
  },
  {
   "cell_type": "markdown",
   "metadata": {},
   "source": [
    "### The user account age."
   ]
  },
  {
   "cell_type": "code",
   "execution_count": 63,
   "metadata": {},
   "outputs": [
    {
     "name": "stdout",
     "output_type": "stream",
     "text": [
      "+------+------------------+\n",
      "|userId|       account_age|\n",
      "+------+------------------+\n",
      "|    10| 51.76265046296297|\n",
      "|   100| 64.87377314814815|\n",
      "|100001| 44.80021990740741|\n",
      "|100002|160.47207175925925|\n",
      "|100003|22.748113425925926|\n",
      "+------+------------------+\n",
      "only showing top 5 rows\n",
      "\n"
     ]
    }
   ],
   "source": [
    "account_age = df_sparkify.select(['userId', 'registration', 'ts', 'churned']).dropDuplicates().sort('userId')\n",
    "w = Window.partitionBy(\"userId\").orderBy(desc(\"ts\"))\n",
    "account_age = account_age.withColumn(\"Rank\", dense_rank().over(w))\n",
    "account_age = account_age.filter(account_age.Rank == 1).drop(account_age.Rank)\n",
    "account_age = account_age.withColumn(\"delta\", (account_age['ts']) - (account_age['registration']))\n",
    "account_age = account_age.withColumn('account_age',(account_age['delta']/1000/3600/24))\n",
    "account_age = account_age.select(\"userId\", \"account_age\")\n",
    "account_age.show(5)"
   ]
  },
  {
   "cell_type": "markdown",
   "metadata": {},
   "source": [
    "### Assemble all feature"
   ]
  },
  {
   "cell_type": "code",
   "execution_count": 64,
   "metadata": {},
   "outputs": [],
   "source": [
    "all_features = [number_of_artists, gender, num_of_song, length_of_song, \n",
    "            level, roll_advert, thumbs_up, thumbs_down, invite_fen,\n",
    "           down_grade, playlist, account_age]\n",
    "\n",
    "all_features_name = [\"number_of_artists\", \"gender\", \"num_of_song\", \"length_of_song\", \n",
    "            \"level\", \"roll_advert\", \"thumbs_up\", \"thumbs_down\", \"invite_fen\",\n",
    "           \"down_grade\", \"playlist\", \"account_age\"]"
   ]
  },
  {
   "cell_type": "code",
   "execution_count": 65,
   "metadata": {},
   "outputs": [
    {
     "name": "stdout",
     "output_type": "stream",
     "text": [
      "+------+-----+\n",
      "|userId|label|\n",
      "+------+-----+\n",
      "|100010|    0|\n",
      "|200002|    0|\n",
      "|   125|    1|\n",
      "|   124|    0|\n",
      "|    51|    1|\n",
      "+------+-----+\n",
      "only showing top 5 rows\n",
      "\n"
     ]
    }
   ],
   "source": [
    "### Label of churned user\n",
    "churned_pos = df_sparkify.select(\"userId\", \"churned\").dropDuplicates().groupby(\"userId\", \"churned\").count()\n",
    "churned_pos = churned_pos.drop('count')\n",
    "churned_pos = churned_pos.withColumnRenamed(\"churned\", \"label\")\n",
    "churned_pos.show(5)"
   ]
  },
  {
   "cell_type": "code",
   "execution_count": 66,
   "metadata": {},
   "outputs": [
    {
     "name": "stdout",
     "output_type": "stream",
     "text": [
      "Adding the number_of_artists features to the final dataframe====>done \n",
      "Adding the gender features to the final dataframe====>done \n",
      "Adding the num_of_song features to the final dataframe====>done \n",
      "Adding the length_of_song features to the final dataframe====>done \n",
      "Adding the level features to the final dataframe====>done \n",
      "Adding the roll_advert features to the final dataframe====>done \n",
      "Adding the thumbs_up features to the final dataframe====>done \n",
      "Adding the thumbs_down features to the final dataframe====>done \n",
      "Adding the invite_fen features to the final dataframe====>done \n",
      "Adding the down_grade features to the final dataframe====>done \n",
      "Adding the playlist features to the final dataframe====>done \n",
      "Adding the account_age features to the final dataframe====>done \n",
      "Completed Assemble all features\n"
     ]
    }
   ],
   "source": [
    "# Create the initial assemble_df\n",
    "assemble_df = churned_pos\n",
    "def collect_feature(assemble_df, feature):\n",
    "    assemble_df = assemble_df.join(feature, \"userId\")\n",
    "    return assemble_df.dropDuplicates()\n",
    "\n",
    "for i, feature in enumerate(all_features):\n",
    "    print(f'Adding the {all_features_name[i]} features to the final dataframe', end='====>done \\n')\n",
    "    assemble_df = collect_feature(assemble_df, feature)\n",
    "assemble_df = assemble_df.orderBy('userId', ascending=True)\n",
    "print('Completed Assemble all features')"
   ]
  },
  {
   "cell_type": "code",
   "execution_count": 67,
   "metadata": {},
   "outputs": [
    {
     "name": "stdout",
     "output_type": "stream",
     "text": [
      "root\n",
      " |-- userId: string (nullable = true)\n",
      " |-- label: long (nullable = true)\n",
      " |-- num_of_aritst: long (nullable = false)\n",
      " |-- gender: integer (nullable = false)\n",
      " |-- avg_song: double (nullable = true)\n",
      " |-- mean_length: double (nullable = false)\n",
      " |-- stdev_length: double (nullable = false)\n",
      " |-- level: integer (nullable = false)\n",
      " |-- sum(roll_advert): long (nullable = true)\n",
      " |-- sum(thumbs_up): long (nullable = true)\n",
      " |-- sum(thumbs_down): long (nullable = true)\n",
      " |-- sum(invite_fen): long (nullable = true)\n",
      " |-- sum(down_grade): long (nullable = true)\n",
      " |-- sum(playlist): long (nullable = true)\n",
      " |-- account_age: double (nullable = true)\n",
      "\n"
     ]
    }
   ],
   "source": [
    "assemble_df.printSchema()"
   ]
  },
  {
   "cell_type": "markdown",
   "metadata": {},
   "source": [
    "# Modeling\n",
    "Split the full dataset into train, test, and validation sets. Test out several of the machine learning methods you learned. Evaluate the accuracy of the various models, tuning parameters as necessary. Determine your winning model based on test accuracy and report results on the validation set. Since the churned users are a fairly small subset, I suggest using F1 score as the metric to optimize."
   ]
  },
  {
   "cell_type": "markdown",
   "metadata": {},
   "source": [
    "### Modify data"
   ]
  },
  {
   "cell_type": "code",
   "execution_count": 68,
   "metadata": {},
   "outputs": [
    {
     "data": {
      "text/html": [
       "<div>\n",
       "<style scoped>\n",
       "    .dataframe tbody tr th:only-of-type {\n",
       "        vertical-align: middle;\n",
       "    }\n",
       "\n",
       "    .dataframe tbody tr th {\n",
       "        vertical-align: top;\n",
       "    }\n",
       "\n",
       "    .dataframe thead th {\n",
       "        text-align: right;\n",
       "    }\n",
       "</style>\n",
       "<table border=\"1\" class=\"dataframe\">\n",
       "  <thead>\n",
       "    <tr style=\"text-align: right;\">\n",
       "      <th></th>\n",
       "      <th>userId</th>\n",
       "      <th>label</th>\n",
       "      <th>num_of_aritst</th>\n",
       "      <th>gender</th>\n",
       "      <th>avg_song</th>\n",
       "      <th>mean_length</th>\n",
       "      <th>stdev_length</th>\n",
       "      <th>level</th>\n",
       "      <th>sum(roll_advert)</th>\n",
       "      <th>sum(thumbs_up)</th>\n",
       "      <th>sum(thumbs_down)</th>\n",
       "      <th>sum(invite_fen)</th>\n",
       "      <th>sum(down_grade)</th>\n",
       "      <th>sum(playlist)</th>\n",
       "      <th>account_age</th>\n",
       "    </tr>\n",
       "  </thead>\n",
       "  <tbody>\n",
       "    <tr>\n",
       "      <th>0</th>\n",
       "      <td>10</td>\n",
       "      <td>0</td>\n",
       "      <td>566</td>\n",
       "      <td>0</td>\n",
       "      <td>112.166667</td>\n",
       "      <td>7.725295</td>\n",
       "      <td>8.985657</td>\n",
       "      <td>1</td>\n",
       "      <td>1</td>\n",
       "      <td>37</td>\n",
       "      <td>4</td>\n",
       "      <td>12</td>\n",
       "      <td>7</td>\n",
       "      <td>9</td>\n",
       "      <td>51.762650</td>\n",
       "    </tr>\n",
       "    <tr>\n",
       "      <th>1</th>\n",
       "      <td>100</td>\n",
       "      <td>0</td>\n",
       "      <td>1706</td>\n",
       "      <td>0</td>\n",
       "      <td>78.882353</td>\n",
       "      <td>5.497368</td>\n",
       "      <td>5.137933</td>\n",
       "      <td>1</td>\n",
       "      <td>25</td>\n",
       "      <td>148</td>\n",
       "      <td>27</td>\n",
       "      <td>49</td>\n",
       "      <td>30</td>\n",
       "      <td>61</td>\n",
       "      <td>64.873773</td>\n",
       "    </tr>\n",
       "    <tr>\n",
       "      <th>2</th>\n",
       "      <td>100001</td>\n",
       "      <td>1</td>\n",
       "      <td>126</td>\n",
       "      <td>1</td>\n",
       "      <td>33.250000</td>\n",
       "      <td>2.435677</td>\n",
       "      <td>1.055065</td>\n",
       "      <td>0</td>\n",
       "      <td>14</td>\n",
       "      <td>8</td>\n",
       "      <td>2</td>\n",
       "      <td>2</td>\n",
       "      <td>0</td>\n",
       "      <td>3</td>\n",
       "      <td>44.800220</td>\n",
       "    </tr>\n",
       "    <tr>\n",
       "      <th>3</th>\n",
       "      <td>100002</td>\n",
       "      <td>0</td>\n",
       "      <td>185</td>\n",
       "      <td>1</td>\n",
       "      <td>48.750000</td>\n",
       "      <td>3.441661</td>\n",
       "      <td>5.918537</td>\n",
       "      <td>1</td>\n",
       "      <td>3</td>\n",
       "      <td>5</td>\n",
       "      <td>0</td>\n",
       "      <td>1</td>\n",
       "      <td>2</td>\n",
       "      <td>5</td>\n",
       "      <td>160.472072</td>\n",
       "    </tr>\n",
       "    <tr>\n",
       "      <th>4</th>\n",
       "      <td>100003</td>\n",
       "      <td>1</td>\n",
       "      <td>51</td>\n",
       "      <td>1</td>\n",
       "      <td>25.500000</td>\n",
       "      <td>1.709225</td>\n",
       "      <td>2.265005</td>\n",
       "      <td>0</td>\n",
       "      <td>9</td>\n",
       "      <td>3</td>\n",
       "      <td>0</td>\n",
       "      <td>0</td>\n",
       "      <td>0</td>\n",
       "      <td>2</td>\n",
       "      <td>22.748113</td>\n",
       "    </tr>\n",
       "  </tbody>\n",
       "</table>\n",
       "</div>"
      ],
      "text/plain": [
       "   userId  label  num_of_aritst  gender    avg_song  mean_length  \\\n",
       "0      10      0            566       0  112.166667     7.725295   \n",
       "1     100      0           1706       0   78.882353     5.497368   \n",
       "2  100001      1            126       1   33.250000     2.435677   \n",
       "3  100002      0            185       1   48.750000     3.441661   \n",
       "4  100003      1             51       1   25.500000     1.709225   \n",
       "\n",
       "   stdev_length  level  sum(roll_advert)  sum(thumbs_up)  sum(thumbs_down)  \\\n",
       "0      8.985657      1                 1              37                 4   \n",
       "1      5.137933      1                25             148                27   \n",
       "2      1.055065      0                14               8                 2   \n",
       "3      5.918537      1                 3               5                 0   \n",
       "4      2.265005      0                 9               3                 0   \n",
       "\n",
       "   sum(invite_fen)  sum(down_grade)  sum(playlist)  account_age  \n",
       "0               12                7              9    51.762650  \n",
       "1               49               30             61    64.873773  \n",
       "2                2                0              3    44.800220  \n",
       "3                1                2              5   160.472072  \n",
       "4                0                0              2    22.748113  "
      ]
     },
     "execution_count": 68,
     "metadata": {},
     "output_type": "execute_result"
    }
   ],
   "source": [
    "# The final dataframe\n",
    "assemble_df_temp = assemble_df.toPandas()\n",
    "assemble_df_temp.head()"
   ]
  },
  {
   "cell_type": "code",
   "execution_count": 69,
   "metadata": {},
   "outputs": [],
   "source": [
    "assemble_df = assemble_df.withColumnRenamed(\"sum(roll_advert)\", \"roll_advert\")\n",
    "assemble_df = assemble_df.withColumnRenamed(\"sum(thumbs_up)\", \"thumbs_up\")\n",
    "assemble_df = assemble_df.withColumnRenamed(\"sum(thumbs_down)\", \"thumbs_down\")\n",
    "assemble_df = assemble_df.withColumnRenamed(\"sum(invite_fen)\", \"invite_fen\")\n",
    "assemble_df = assemble_df.withColumnRenamed(\"sum(down_grade)\", \"down_grade\")\n",
    "assemble_df = assemble_df.withColumnRenamed(\"sum(playlist)\", \"playlist\")"
   ]
  },
  {
   "cell_type": "code",
   "execution_count": 70,
   "metadata": {},
   "outputs": [
    {
     "name": "stdout",
     "output_type": "stream",
     "text": [
      "+------+-----+-------------+------+------------------+------------------+------------------+-----+-----------+---------+-----------+----------+----------+--------+------------------+\n",
      "|userId|label|num_of_aritst|gender|          avg_song|       mean_length|      stdev_length|level|roll_advert|thumbs_up|thumbs_down|invite_fen|down_grade|playlist|       account_age|\n",
      "+------+-----+-------------+------+------------------+------------------+------------------+-----+-----------+---------+-----------+----------+----------+--------+------------------+\n",
      "|    10|    0|          566|     0|112.16666666666667| 7.725295023611108|  8.98565713929025|    1|          1|       37|          4|        12|         7|       9| 51.76265046296297|\n",
      "|   100|    0|         1706|     0| 78.88235294117646| 5.497368109395424| 5.137933323843454|    1|         25|      148|         27|        49|        30|      61| 64.87377314814815|\n",
      "|100001|    1|          126|     1|             33.25|2.4356765381944445|1.0550649685563647|    0|         14|        8|          2|         2|         0|       3| 44.80021990740741|\n",
      "|100002|    0|          185|     1|             48.75|3.4416609791666652| 5.918536719804807|    1|          3|        5|          0|         1|         2|       5|160.47207175925925|\n",
      "|100003|    1|           51|     1|              25.5|1.7092249055555555|2.2650053882341616|    0|          9|        3|          0|         0|         0|       2|22.748113425925926|\n",
      "+------+-----+-------------+------+------------------+------------------+------------------+-----+-----------+---------+-----------+----------+----------+--------+------------------+\n",
      "only showing top 5 rows\n",
      "\n"
     ]
    }
   ],
   "source": [
    "assemble_df.show(5)"
   ]
  },
  {
   "cell_type": "code",
   "execution_count": 71,
   "metadata": {},
   "outputs": [],
   "source": [
    "# Covert all columns type into float type\n",
    "for column in assemble_df.columns:\n",
    "    assemble_df = assemble_df.withColumn(column, assemble_df[column].cast('float'))"
   ]
  },
  {
   "cell_type": "code",
   "execution_count": 72,
   "metadata": {},
   "outputs": [
    {
     "name": "stdout",
     "output_type": "stream",
     "text": [
      "root\n",
      " |-- userId: float (nullable = true)\n",
      " |-- label: float (nullable = true)\n",
      " |-- num_of_aritst: float (nullable = false)\n",
      " |-- gender: float (nullable = false)\n",
      " |-- avg_song: float (nullable = true)\n",
      " |-- mean_length: float (nullable = false)\n",
      " |-- stdev_length: float (nullable = false)\n",
      " |-- level: float (nullable = false)\n",
      " |-- roll_advert: float (nullable = true)\n",
      " |-- thumbs_up: float (nullable = true)\n",
      " |-- thumbs_down: float (nullable = true)\n",
      " |-- invite_fen: float (nullable = true)\n",
      " |-- down_grade: float (nullable = true)\n",
      " |-- playlist: float (nullable = true)\n",
      " |-- account_age: float (nullable = true)\n",
      "\n"
     ]
    }
   ],
   "source": [
    "assemble_df.printSchema()"
   ]
  },
  {
   "cell_type": "code",
   "execution_count": 73,
   "metadata": {},
   "outputs": [
    {
     "name": "stdout",
     "output_type": "stream",
     "text": [
      "+--------+-----+-------------+------+----------+-----------+------------+-----+-----------+---------+-----------+----------+----------+--------+-----------+--------------------+\n",
      "|  userId|label|num_of_aritst|gender|  avg_song|mean_length|stdev_length|level|roll_advert|thumbs_up|thumbs_down|invite_fen|down_grade|playlist|account_age|     vector_features|\n",
      "+--------+-----+-------------+------+----------+-----------+------------+-----+-----------+---------+-----------+----------+----------+--------+-----------+--------------------+\n",
      "|    10.0|  0.0|        566.0|   0.0|112.166664|   7.725295|    8.985657|  1.0|        1.0|     37.0|        4.0|      12.0|       7.0|     9.0|   51.76265|[0.0,112.16666412...|\n",
      "|   100.0|  0.0|       1706.0|   0.0| 78.882355|  5.4973683|   5.1379333|  1.0|       25.0|    148.0|       27.0|      49.0|      30.0|    61.0|   64.87377|[0.0,78.882354736...|\n",
      "|100001.0|  1.0|        126.0|   1.0|     33.25|  2.4356766|   1.0550649|  0.0|       14.0|      8.0|        2.0|       2.0|       0.0|     3.0|   44.80022|[1.0,33.25,2.4356...|\n",
      "+--------+-----+-------------+------+----------+-----------+------------+-----+-----------+---------+-----------+----------+----------+--------+-----------+--------------------+\n",
      "only showing top 3 rows\n",
      "\n"
     ]
    }
   ],
   "source": [
    "# Create a vector assembler object for all the input columns\n",
    "vector_assembler = VectorAssembler(inputCols=assemble_df.columns[3:], outputCol='vector_features')\n",
    "\n",
    "# Use the vectorization method on the dataset\n",
    "assemble_df = vector_assembler.transform(assemble_df)\n",
    "assemble_df.show(3)"
   ]
  },
  {
   "cell_type": "markdown",
   "metadata": {},
   "source": [
    "I can now normalize all the values using our vectors. This is important for our machine learning model because it allows the individual features to be evenly distributed and prevents the results from being heavily influenced by the features with the highest values."
   ]
  },
  {
   "cell_type": "code",
   "execution_count": 74,
   "metadata": {},
   "outputs": [
    {
     "data": {
      "text/plain": [
       "Row(userId=10.0, label=0.0, num_of_aritst=566.0, gender=0.0, avg_song=112.16666412353516, mean_length=7.725295066833496, stdev_length=8.98565673828125, level=1.0, roll_advert=1.0, thumbs_up=37.0, thumbs_down=4.0, invite_fen=12.0, down_grade=7.0, playlist=9.0, account_age=51.76264953613281, vector_features=DenseVector([0.0, 112.1667, 7.7253, 8.9857, 1.0, 1.0, 37.0, 4.0, 12.0, 7.0, 9.0, 51.7626]), scaler_features=DenseVector([0.0, 2.6321, 2.6225, 2.4708, 2.0844, 0.0464, 0.5651, 0.3059, 0.583, 0.5965, 0.2751, 1.3744]))"
      ]
     },
     "execution_count": 74,
     "metadata": {},
     "output_type": "execute_result"
    }
   ],
   "source": [
    "scaler = StandardScaler(inputCol=\"vector_features\", outputCol=\"scaler_features\", withStd=True)\n",
    "scaler_model = scaler.fit(assemble_df)\n",
    "assemble_df = scaler_model.transform(assemble_df)\n",
    "assemble_df.head()"
   ]
  },
  {
   "cell_type": "markdown",
   "metadata": {},
   "source": [
    "### Split data"
   ]
  },
  {
   "cell_type": "code",
   "execution_count": 75,
   "metadata": {},
   "outputs": [
    {
     "name": "stdout",
     "output_type": "stream",
     "text": [
      "+-----+-----+\n",
      "|label|count|\n",
      "+-----+-----+\n",
      "|  1.0|   52|\n",
      "|  0.0|  173|\n",
      "+-----+-----+\n",
      "\n"
     ]
    }
   ],
   "source": [
    "assemble_df.groupby('label').count().show()"
   ]
  },
  {
   "cell_type": "code",
   "execution_count": 76,
   "metadata": {},
   "outputs": [
    {
     "name": "stdout",
     "output_type": "stream",
     "text": [
      "Size of dataset [train, test, valid]: [173, 33. 19]\n"
     ]
    }
   ],
   "source": [
    "train, test, valid = assemble_df.randomSplit([0.7, 0.15, 0.15], seed = 2000)\n",
    "print(\"Size of dataset [train, test, valid]: [{}, {}. {}]\".format(train.count(), test.count(), valid.count()))"
   ]
  },
  {
   "cell_type": "markdown",
   "metadata": {},
   "source": [
    "### Model"
   ]
  },
  {
   "cell_type": "markdown",
   "metadata": {},
   "source": [
    "I have now used feature engineering to create a new dataframe called assemble_df after spliting the entire dataset into train, test, and validation sets using a dataframe containing only numerical variables. I will be testing several machine learning classification algorithms for this binary classification problem, which involves predicting whether users will churn (1) or stay (0) within a certain timeframe. The algorithms I will be evaluating are Logistic Regression, Random Forest Classifier, GBTClassifier, and LinearSVC."
   ]
  },
  {
   "cell_type": "code",
   "execution_count": 77,
   "metadata": {},
   "outputs": [],
   "source": [
    "lr = LogisticRegression(featuresCol = 'scaler_features', labelCol = 'label', maxIter=5)\n",
    "rf = RandomForestClassifier(featuresCol = 'scaler_features', labelCol = 'label', seed=23)\n",
    "gb = GBTClassifier(featuresCol = 'scaler_features', labelCol = 'label')\n",
    "svc = LinearSVC(featuresCol = 'scaler_features', labelCol = 'label')"
   ]
  },
  {
   "cell_type": "markdown",
   "metadata": {},
   "source": [
    "### Evaluating models"
   ]
  },
  {
   "cell_type": "markdown",
   "metadata": {},
   "source": [
    "I will assess the accuracy of the models and adjust the parameters as needed. Based on the test accuracy, we will choose the best model, and I will present the results on the validation set. I will use the F1 score as the evaluation metric because the proportion of churned users is very small. The F1 score is a measure of model accuracy on a dataset, specifically for binary classification systems like the one we are working on. It combines precision and recall to provide a more comprehensive assessment of incorrectly classified examples than the accuracy metric. The F1 score is also better suited for handling unbalanced classes, like the ones we have in our dataset."
   ]
  },
  {
   "cell_type": "code",
   "execution_count": 78,
   "metadata": {},
   "outputs": [],
   "source": [
    "def evaluating_model(model, param):\n",
    "    model_name = model.__class__.__name__\n",
    "    print(f'========   Starting train {model_name} MODEL   ========\\n')\n",
    "    pipeline  = Pipeline(stages=[vector_assembler, scaler, model])\n",
    "\n",
    "    evaluator = MulticlassClassificationEvaluator(labelCol = 'label', predictionCol='prediction')\n",
    "\n",
    "    crossval= CrossValidator(estimator=pipeline,  \n",
    "                             estimatorParamMaps=param,\n",
    "                             evaluator = evaluator , \n",
    "                             numFolds=3\n",
    "                           )\n",
    "    # Fit model\n",
    "    start = time.time()\n",
    "    train_new = train.withColumnRenamed(\"vector_features\", \"features_train\")\n",
    "    train_new = train_new.withColumnRenamed(\"scaler_features\", \"scaler_features_train\")\n",
    "    trained_model = crossval.fit(train_new)\n",
    "    end = time.time()\n",
    "    print(f'Training {model_name} takes {end-start} seconds')\n",
    "    \n",
    "    # Evaluate model\n",
    "    valid_new = valid.withColumnRenamed(\"vector_features\", \"features_val\")\n",
    "    valid_new = valid_new.withColumnRenamed(\"scaler_features\", \"scaler_features_val\")\n",
    "    results = trained_model.transform(valid_new)\n",
    "    correct = (results.filter(results.label == results.prediction).count())\n",
    "    total = (results.count())\n",
    "\n",
    "    print(\"Correct Predictions Count: {}\".format(correct))\n",
    "    print(\"Total Number of Predictions: {}\".format(total))\n",
    "    print(\"F1-score: {}\".format(evaluator.evaluate(results, {evaluator.metricName: \"f1\"})))\n",
    "    print(\"Accuracy: {}\".format(correct / total))"
   ]
  },
  {
   "cell_type": "markdown",
   "metadata": {},
   "source": [
    "### Logistic Regression Model"
   ]
  },
  {
   "cell_type": "code",
   "execution_count": 79,
   "metadata": {},
   "outputs": [
    {
     "name": "stdout",
     "output_type": "stream",
     "text": [
      "========   Starting train LogisticRegression MODEL   ========\n",
      "\n",
      "Training LogisticRegression takes 1415.0573139190674 seconds\n",
      "Correct Predictions Count: 17\n",
      "Total Number of Predictions: 19\n",
      "F1-score: 0.8804824561403509\n",
      "Accuracy: 0.8947368421052632\n"
     ]
    }
   ],
   "source": [
    "param =ParamGridBuilder()\\\n",
    "    .addGrid(lr.regParam, [0.0, 0,1])\\\n",
    "    .addGrid(lr.maxIter, [10])\\\n",
    "    .build()\n",
    "evaluating_model(lr, param)"
   ]
  },
  {
   "cell_type": "markdown",
   "metadata": {},
   "source": [
    "### Random Forest"
   ]
  },
  {
   "cell_type": "code",
   "execution_count": 80,
   "metadata": {},
   "outputs": [
    {
     "name": "stdout",
     "output_type": "stream",
     "text": [
      "========   Starting train RandomForestClassifier MODEL   ========\n",
      "\n",
      "Training RandomForestClassifier takes 1136.4520161151886 seconds\n",
      "Correct Predictions Count: 17\n",
      "Total Number of Predictions: 19\n",
      "F1-score: 0.8804824561403509\n",
      "Accuracy: 0.8947368421052632\n"
     ]
    }
   ],
   "source": [
    "param = ParamGridBuilder()\\\n",
    ".build()\n",
    "evaluating_model(rf, param)"
   ]
  },
  {
   "cell_type": "markdown",
   "metadata": {},
   "source": [
    "### GBTClassifier"
   ]
  },
  {
   "cell_type": "code",
   "execution_count": 79,
   "metadata": {},
   "outputs": [
    {
     "name": "stdout",
     "output_type": "stream",
     "text": [
      "========   Starting train GBTClassifier MODEL   ========\n",
      "\n",
      "Training GBTClassifier takes 2826.877682685852 seconds\n",
      "Correct Predictions Count: 17\n",
      "Total Number of Predictions: 19\n",
      "F1-score: 0.894736842105263\n",
      "Accuracy: 0.8947368421052632\n"
     ]
    }
   ],
   "source": [
    "param =ParamGridBuilder()\\\n",
    ".build()\n",
    "evaluating_model(gb, param)"
   ]
  },
  {
   "cell_type": "markdown",
   "metadata": {},
   "source": [
    "### LinearSVC"
   ]
  },
  {
   "cell_type": "code",
   "execution_count": 80,
   "metadata": {},
   "outputs": [
    {
     "name": "stdout",
     "output_type": "stream",
     "text": [
      "========   Starting train LinearSVC MODEL   ========\n",
      "\n",
      "Training LinearSVC takes 5712.711784601212 seconds\n",
      "Correct Predictions Count: 15\n",
      "Total Number of Predictions: 19\n",
      "F1-score: 0.696594427244582\n",
      "Accuracy: 0.7894736842105263\n"
     ]
    }
   ],
   "source": [
    "param =ParamGridBuilder()\\\n",
    ".build()\n",
    "evaluating_model(svc, param)"
   ]
  },
  {
   "cell_type": "markdown",
   "metadata": {},
   "source": [
    "### Because the Random Forest Classifier has the training time is shortest, we will use this model for the test data."
   ]
  },
  {
   "cell_type": "code",
   "execution_count": 81,
   "metadata": {},
   "outputs": [
    {
     "name": "stdout",
     "output_type": "stream",
     "text": [
      "========   Testing Random Forest Classifier MODEL   ========\n",
      "\n",
      "Correct Predictions Count: 26\n",
      "Total Number of Predictions: 33\n",
      "F1-score: 0.7529411764705882\n",
      "Accuracy: 0.7878787878787878\n"
     ]
    }
   ],
   "source": [
    "print(f'========   Testing Random Forest Classifier MODEL   ========\\n')\n",
    "param = ParamGridBuilder()\\\n",
    ".build()\n",
    "pipeline  = Pipeline(stages=[vector_assembler, scaler, rf])\n",
    "\n",
    "evaluator = MulticlassClassificationEvaluator(labelCol = 'label', predictionCol='prediction')\n",
    "\n",
    "crossval= CrossValidator(estimator=pipeline,  \n",
    "                             estimatorParamMaps=param,\n",
    "                             evaluator = evaluator , \n",
    "                             numFolds=3\n",
    "                           )\n",
    "train_new = train.withColumnRenamed(\"vector_features\", \"features_train\")\n",
    "train_new = train_new.withColumnRenamed(\"scaler_features\", \"scaler_features_train\")\n",
    "trained_model = crossval.fit(train_new)\n",
    "\n",
    "# Testing model\n",
    "test_new = test.withColumnRenamed(\"vector_features\", \"features_test\")\n",
    "test_new = test_new.withColumnRenamed(\"scaler_features\", \"scaler_features_test\")\n",
    "results = trained_model.transform(test_new)\n",
    "correct = (results.filter(results.label == results.prediction).count())\n",
    "total = (results.count())\n",
    "\n",
    "print(\"Correct Predictions Count: {}\".format(correct))\n",
    "print(\"Total Number of Predictions: {}\".format(total))\n",
    "print(\"F1-score: {}\".format(evaluator.evaluate(results, {evaluator.metricName: \"f1\"})))\n",
    "print(\"Accuracy: {}\".format(correct / total))"
   ]
  },
  {
   "cell_type": "markdown",
   "metadata": {},
   "source": [
    "# Conclusion\n",
    "It sounds like you were able to use machine learning modeling to predict which customers are likely to unsubscribe. You found that all the models had good results, but the GBTClassifier, Logistic Regression, Random Forest are models was better but the Logistic Regression has the time for training model is shortest. However, you may want to try adjusting the parameters of the other models in order to reduce overfitting.\n",
    "\n",
    "There are several ways to potentially improve the current results:\n",
    "- Increasing the dataset size by using the full 12GB dataset\n",
    "- Experimenting with different parameters for the selected models\n",
    "- Adding additional features, such as customer location (city/state), which may be relevant for predicting churn. For example, some states may have higher churn rates due to certain lifestyle factors or the nature of the environment, while others may have lower churn rates due to a more settled and resistant to change population."
   ]
  },
  {
   "cell_type": "code",
   "execution_count": null,
   "metadata": {},
   "outputs": [],
   "source": []
  }
 ],
 "metadata": {
  "kernelspec": {
   "display_name": "Python 3",
   "language": "python",
   "name": "python3"
  },
  "language_info": {
   "codemirror_mode": {
    "name": "ipython",
    "version": 3
   },
   "file_extension": ".py",
   "mimetype": "text/x-python",
   "name": "python",
   "nbconvert_exporter": "python",
   "pygments_lexer": "ipython3",
   "version": "3.6.3"
  }
 },
 "nbformat": 4,
 "nbformat_minor": 2
}
